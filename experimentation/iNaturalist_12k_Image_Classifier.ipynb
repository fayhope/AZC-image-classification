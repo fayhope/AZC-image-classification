{
  "nbformat": 4,
  "nbformat_minor": 0,
  "metadata": {
    "colab": {
      "provenance": []
    },
    "kernelspec": {
      "name": "python3",
      "display_name": "Python 3"
    },
    "language_info": {
      "name": "python"
    }
  },
  "cells": [
    {
      "cell_type": "markdown",
      "source": [
        "# Introduction\n",
        "Converting a university Assignment in Jupyter Notebook on how to use CNNs into a Google Colab notebook.\n",
        "\n",
        "The aim is to train a image classification model on the [Inaturalist 12K Dataset](https://storage.googleapis.com/wandb_datasets/nature_12K.zip).\n",
        "\n",
        "The dataset features:  \n",
        "\n",
        "*   10 classes\n",
        "*   10k images\n",
        "\n",
        "The dataset will be split into 90% training and 10% for validation.\n",
        "\n",
        "The original assignment utilised wandb for experimental tracking and reporting on the model during it's training and testing phase. However I have removed the code as I do not have access to a wandb API key.\n",
        "\n",
        "Original Repo:\n",
        "https://github.com/PranjalChitale/CS6910_Assignment2/tree/main\n",
        "\n"
      ],
      "metadata": {
        "id": "1o9c9uBjVPd9"
      }
    },
    {
      "cell_type": "markdown",
      "source": [
        "# Setup\n",
        "Importing the required libraries."
      ],
      "metadata": {
        "id": "saPNob9aYAjb"
      }
    },
    {
      "cell_type": "code",
      "execution_count": null,
      "metadata": {
        "id": "GwKk84eLUyQa"
      },
      "outputs": [],
      "source": [
        "import os\n",
        "import numpy as np\n",
        "import matplotlib as plt\n",
        "import tensorflow as tf\n",
        "import pandas as pd\n",
        "from tensorflow.keras import layers,models\n",
        "from tensorflow.keras.layers import Dropout, Flatten, Dense, Activation, BatchNormalization, GlobalAveragePooling2D\n",
        "from tensorflow.keras.preprocessing.image import ImageDataGenerator"
      ]
    },
    {
      "cell_type": "markdown",
      "source": [
        "import different pretrained image-classification models.\n",
        "https://keras.io/api/applications/"
      ],
      "metadata": {
        "id": "VjMN1L8ZYIpB"
      }
    },
    {
      "cell_type": "code",
      "source": [
        "from keras.applications.inception_v3 import InceptionV3\n",
        "from keras.applications.inception_resnet_v2 import InceptionResNetV2\n",
        "from keras.applications.resnet import ResNet50\n",
        "from keras.applications.xception import Xception\n",
        "# from keras.applications.vgg16 import VGG16\n",
        "from keras.applications.mobilenet_v2 import MobileNetV2\n"
      ],
      "metadata": {
        "id": "mPyxKU-LXurR"
      },
      "execution_count": null,
      "outputs": []
    },
    {
      "cell_type": "markdown",
      "source": [
        "Verifying the tensorflow version is latest 2.15.0\n"
      ],
      "metadata": {
        "id": "lQxmdSNdYVEz"
      }
    },
    {
      "cell_type": "code",
      "source": [
        "print(tf.__version__)\n",
        "\n"
      ],
      "metadata": {
        "colab": {
          "base_uri": "https://localhost:8080/"
        },
        "id": "opIi1mvzYXg9",
        "outputId": "876b7240-f484-4f07-cf3f-82d34cf78dd8"
      },
      "execution_count": null,
      "outputs": [
        {
          "output_type": "stream",
          "name": "stdout",
          "text": [
            "2.15.0\n"
          ]
        }
      ]
    },
    {
      "cell_type": "markdown",
      "source": [
        "# Downloading the Dataset\n"
      ],
      "metadata": {
        "id": "OPAFidx5YerT"
      }
    },
    {
      "cell_type": "markdown",
      "source": [
        "Downloading the inaturalist dataset."
      ],
      "metadata": {
        "id": "z_FB1OyKYlwd"
      }
    },
    {
      "cell_type": "code",
      "source": [
        "dataset_url = \"https://storage.googleapis.com/wandb_datasets/nature_12K.zip\"\n",
        "dataset_dir = tf.keras.utils.get_file(\"nature_12K\",origin=dataset_url,cache_dir='.',extract=True)\n"
      ],
      "metadata": {
        "colab": {
          "base_uri": "https://localhost:8080/"
        },
        "id": "Lw_Cu2UxYp9X",
        "outputId": "0e1cae31-88b0-4187-efcf-0cc6a77868d6"
      },
      "execution_count": null,
      "outputs": [
        {
          "output_type": "stream",
          "name": "stdout",
          "text": [
            "Downloading data from https://storage.googleapis.com/wandb_datasets/nature_12K.zip\n",
            "3816687935/3816687935 [==============================] - 42s 0us/step\n"
          ]
        }
      ]
    },
    {
      "cell_type": "markdown",
      "source": [
        "# Preprocessing\n"
      ],
      "metadata": {
        "id": "tXOb1ATwZTAq"
      }
    },
    {
      "cell_type": "markdown",
      "source": [
        "### Setting Directories\n",
        "Setting the train dataset and test dataset directory."
      ],
      "metadata": {
        "id": "6O0LGsA1ZZFI"
      }
    },
    {
      "cell_type": "code",
      "source": [
        "trainset_dir = './datasets/inaturalist_12K/train/'\n",
        "testset_dir = './datasets/inaturalist_12K/val/'\n",
        "classlist = [name for name in os.listdir(trainset_dir) if os.path.isdir(os.path.join(trainset_dir, name))]"
      ],
      "metadata": {
        "id": "rwcGvKYdZR1H"
      },
      "execution_count": null,
      "outputs": []
    },
    {
      "cell_type": "markdown",
      "source": [
        "### Generating the train dataset and val dataset\n"
      ],
      "metadata": {
        "id": "WTLKOdP7a1dD"
      }
    },
    {
      "cell_type": "code",
      "source": [
        "def generate_batch_train_val(path, augmentation, batch_size, image_size):\n",
        "    rescaledata = tf.keras.layers.Rescaling(1./127.5, offset=-1)\n",
        "    #Splits the dataset into train and validation.\n",
        "    #Keras' ImageDataGenerator is used to split data into train and test.\n",
        "    if augmentation:\n",
        "        #Applies data augmentation if specified\n",
        "        train_data_gen = ImageDataGenerator(\n",
        "                            rescale = 1./255,\n",
        "                            horizontal_flip = True,\n",
        "                            rotation_range = 30,\n",
        "                            shear_range = 0.2,\n",
        "                            zoom_range = 0.2,\n",
        "                            width_shift_range = 0.2,\n",
        "                            height_shift_range = 0.2,\n",
        "                            validation_split = 0.1,\n",
        "                        )\n",
        "    else:\n",
        "        train_data_gen = ImageDataGenerator(rescale=1./255, validation_split=0.10)\n",
        "\n",
        "    \"\"\"\n",
        "    Flow from directory expects that images belonging to each class is present in its own folder\n",
        "    but inside the same parent folder : data directory. It takes path to the data directory as\n",
        "    input and generates batches of desired batch size. Need to specify appropriate subset\n",
        "    (training / validation) to generate batches for respective subset.\n",
        "    \"\"\"\n",
        "\n",
        "    train_data = train_data_gen.flow_from_directory(\n",
        "            path,\n",
        "            target_size=image_size,\n",
        "            color_mode=\"rgb\",\n",
        "            batch_size=batch_size,\n",
        "            class_mode=\"sparse\",\n",
        "            shuffle=True,\n",
        "            seed = 0,\n",
        "            subset=\"training\"\n",
        "        )\n",
        "\n",
        "    val_data = train_data_gen.flow_from_directory(\n",
        "        path,\n",
        "        target_size=image_size,\n",
        "        color_mode=\"rgb\",\n",
        "        batch_size=batch_size,\n",
        "        class_mode=\"sparse\",\n",
        "        shuffle=True,\n",
        "        seed=0,\n",
        "        subset=\"validation\"\n",
        "    )\n",
        "\n",
        "    #Gets the list of class labels.\n",
        "    class_labels = list(train_data.class_indices.keys())\n",
        "\n",
        "\n",
        "    return train_data, val_data, class_labels"
      ],
      "metadata": {
        "id": "Jp9i6Ftba8Mm"
      },
      "execution_count": null,
      "outputs": []
    },
    {
      "cell_type": "markdown",
      "source": [
        "### Generating the test dataset"
      ],
      "metadata": {
        "id": "-ILc0LS1cVpd"
      }
    },
    {
      "cell_type": "code",
      "source": [
        "def generate_batch_test(path, batch_size, image_size):\n",
        "    #Generates batches of test data.\n",
        "    test_data_gen = ImageDataGenerator(\n",
        "    rescale = 1./255\n",
        "    )\n",
        "\n",
        "    test_data = test_data_gen.flow_from_directory(\n",
        "            path,\n",
        "            target_size=image_size,\n",
        "            color_mode=\"rgb\",\n",
        "            batch_size=batch_size,\n",
        "            class_mode=\"sparse\",\n",
        "            shuffle=True,\n",
        "            seed=0,\n",
        "        )\n",
        "\n",
        "    return test_data"
      ],
      "metadata": {
        "id": "Fu01iDLVcYPY"
      },
      "execution_count": null,
      "outputs": []
    },
    {
      "cell_type": "markdown",
      "source": [
        "# Training\n",
        "This includes training predicting and logging the experiments.\n",
        "\n"
      ],
      "metadata": {
        "id": "zxEjtl7Zcl18"
      }
    },
    {
      "cell_type": "code",
      "source": [
        "def train(config = None ):\n",
        "\n",
        "    # Reading and setting the configuation\n",
        "    batch_size = config['batch_size']\n",
        "    augmentation = config['augmentation']\n",
        "    pretrain_model = config['pretrain_model']\n",
        "    droprate = config['droprate']\n",
        "    batch_norm = config['batch_normalization']\n",
        "    epoch = config['epoch']\n",
        "    fc_size = config[\"fc_size\"]\n",
        "    num_of_trainable_layers = config['num_of_trainable_layers']\n",
        "\n",
        "    # Choosing the pretrained model based on configuration input.\n",
        "    if pretrain_model == 'InceptionV3':\n",
        "        image_size = (299,299)\n",
        "        base_model = tf.keras.applications.InceptionV3(include_top = False,weights='imagenet', input_shape=image_size+(3,))\n",
        "\n",
        "    elif pretrain_model == 'InceptionResNetV2':\n",
        "        image_size = (299,299)\n",
        "        base_model = tf.keras.applications.InceptionResNetV2(include_top = False,weights='imagenet',input_shape=image_size+(3,))\n",
        "\n",
        "    elif pretrain_model == 'ResNet50':\n",
        "        image_size = (224,224)\n",
        "        base_model = tf.keras.applications.ResNet50(include_top = False,weights='imagenet',input_shape=image_size+(3,))\n",
        "\n",
        "    elif pretrain_model == 'Xception':\n",
        "        image_size = (299,299)\n",
        "        base_model = tf.keras.applications.Xception(include_top = False,weights='imagenet',input_shape=image_size+(3,))\n",
        "\n",
        "    elif pretrain_model == 'MobileNetV2':\n",
        "        image_size = (224,224)\n",
        "        base_model = tf.keras.applications.MobileNetV2(include_top = False,weights='imagenet',input_shape=image_size+(3,))\n",
        "\n",
        "    # Freezing the pretrained model's layer.\n",
        "    base_model.trainable = False\n",
        "\n",
        "    # Adding the new fully connected layer on top of the feature extraction layers of pretrained model.\n",
        "    model = tf.keras.Sequential([\n",
        "        tf.keras.Input(shape=image_size+(3,)),\n",
        "        base_model,\n",
        "        Flatten(),\n",
        "        Dense(fc_size,activation='relu'),\n",
        "    ])\n",
        "\n",
        "    if batch_norm:\n",
        "        model.add(BatchNormalization())\n",
        "\n",
        "    model.add(Dropout(droprate))\n",
        "    model.add(Dense(fc_size, activation='relu'))\n",
        "    model.add(Dropout(droprate))\n",
        "    train_data,val_data,class_labels = generate_batch_train_val(trainset_dir, augmentation, batch_size,image_size)\n",
        "    model.add(Dense(len(class_labels) ,activation='softmax'))\n",
        "\n",
        "    # Setting the optimisation and loss function.\n",
        "    model.compile(\n",
        "        optimizer= 'adam',\n",
        "        loss=tf.keras.losses.SparseCategoricalCrossentropy(),\n",
        "        metrics=['accuracy']\n",
        "    )\n",
        "\n",
        "    # Dividing the epoch between pretraining and fine-tuning(if asked).\n",
        "    if num_of_trainable_layers > 0:\n",
        "        fine_tuning_epoch = int(epoch/2)\n",
        "        pretrain_epoch = int(epoch/2)\n",
        "    else:\n",
        "        pretrain_epoch = epoch\n",
        "\n",
        "    # Training the model.\n",
        "    hist=model.fit(train_data,epochs=pretrain_epoch,validation_data=val_data)#,callbacks=[wandb_callback]\n",
        "\n",
        "\n",
        "    # Fine-tuning\n",
        "    # Based on input, if number of trainable layers are >0, then setting that number of the freezed layers in pretrained model trainable.\n",
        "    if num_of_trainable_layers > 0:\n",
        "        num_of_trainable_layers=num_of_trainable_layers+(len(model.layers)-len(base_model.layers))\n",
        "        for layer in reversed(model.layers):\n",
        "            if(num_of_trainable_layers> 0):\n",
        "                layer.trainable=True\n",
        "                num_of_trainable_layers -= 1\n",
        "\n",
        "        model.compile(\n",
        "            optimizer= tf.keras.optimizers.Adam(learning_rate=1e-5),\n",
        "            loss=tf.keras.losses.SparseCategoricalCrossentropy(),\n",
        "            metrics=['accuracy'])\n",
        "\n",
        "        # Fine tuning.\n",
        "        hist=model.fit(train_data,epochs=fine_tuning_epoch,validation_data=val_data)\n",
        "\n"
      ],
      "metadata": {
        "id": "ewCcMbnjcwk-"
      },
      "execution_count": 11,
      "outputs": []
    },
    {
      "cell_type": "markdown",
      "source": [
        "# Running\n",
        "### Best parameters configuration run."
      ],
      "metadata": {
        "id": "MKJ8i-Aid3ZA"
      }
    },
    {
      "cell_type": "code",
      "source": [
        "config = {\n",
        "    'pretrain_model': 'Xception',\n",
        "    'epoch':9,\n",
        "    'batch_size': 16,\n",
        "    'augmentation': True,\n",
        "    'fc_size': 256,\n",
        "    'droprate':0.4,\n",
        "    'batch_normalization': True,\n",
        "    'num_of_trainable_layers' : 1\n",
        "    }\n",
        "train(config)"
      ],
      "metadata": {
        "colab": {
          "base_uri": "https://localhost:8080/"
        },
        "id": "L1DK6U6Rd017",
        "outputId": "07ad6964-03b9-40b6-807c-67928f25d4d0"
      },
      "execution_count": null,
      "outputs": [
        {
          "output_type": "stream",
          "name": "stdout",
          "text": [
            "Downloading data from https://storage.googleapis.com/tensorflow/keras-applications/xception/xception_weights_tf_dim_ordering_tf_kernels_notop.h5\n",
            "83683744/83683744 [==============================] - 0s 0us/step\n",
            "Found 9000 images belonging to 10 classes.\n",
            "Found 999 images belonging to 10 classes.\n",
            "Epoch 1/4\n",
            "103/563 [====>.........................] - ETA: 54:09 - loss: 1.8102 - accuracy: 0.4280"
          ]
        }
      ]
    },
    {
      "cell_type": "markdown",
      "source": [
        "### Sweep configuration"
      ],
      "metadata": {
        "id": "eFVfIfqnd-zv"
      }
    },
    {
      "cell_type": "code",
      "source": [
        "sweep_config = {\n",
        "    'name': 'A2_B_bayes',\n",
        "    'method': 'bayes',\n",
        "    'early_terminate':{'type': 'hyperband', 'min_iter': 3},\n",
        "    'metric':{'name':'val_Accuracy','goal':'maximize'},\n",
        "    'parameters': {\n",
        "        'pretrain_model' : {'values' :['InceptionV3','InceptionResNetV2','ResNet50','Xception','MobileNetV2']},\n",
        "        'epoch' : {'values':[6,9]},\n",
        "        'batch_size' : {'values':[16,32,128]},\n",
        "        'augmentation':{'values':[True,False]},\n",
        "        'fc_size': {'values': [128,256,512]},\n",
        "        'droprate':{'values': [0.4,0.5]},\n",
        "        'batch_normalization': {'values':[True,False]},\n",
        "        'num_of_trainable_layers' : {'values': [0,1,2]},\n",
        "\n",
        "    }\n",
        "}"
      ],
      "metadata": {
        "id": "OWdOdaKMeEW9"
      },
      "execution_count": null,
      "outputs": []
    }
  ]
}