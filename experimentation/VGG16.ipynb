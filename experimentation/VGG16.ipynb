{
  "nbformat": 4,
  "nbformat_minor": 0,
  "metadata": {
    "colab": {
      "provenance": [],
      "gpuType": "T4"
    },
    "kernelspec": {
      "name": "python3",
      "display_name": "Python 3"
    },
    "language_info": {
      "name": "python"
    },
    "accelerator": "GPU",
    "widgets": {
      "application/vnd.jupyter.widget-state+json": {
        "d578fb72e0d142bdbdaa8593d43d179a": {
          "model_module": "@jupyter-widgets/controls",
          "model_name": "HBoxModel",
          "model_module_version": "1.5.0",
          "state": {
            "_dom_classes": [],
            "_model_module": "@jupyter-widgets/controls",
            "_model_module_version": "1.5.0",
            "_model_name": "HBoxModel",
            "_view_count": null,
            "_view_module": "@jupyter-widgets/controls",
            "_view_module_version": "1.5.0",
            "_view_name": "HBoxView",
            "box_style": "",
            "children": [
              "IPY_MODEL_39e5a6e5a6334882b230be9cbc0d38cf",
              "IPY_MODEL_f3d36751f30b43848bf346a906d1a53e",
              "IPY_MODEL_c1a82c24b25941c2b47edc79de0b0436"
            ],
            "layout": "IPY_MODEL_7bcdb37100fa4f47aab8cbaae46c9bb5"
          }
        },
        "39e5a6e5a6334882b230be9cbc0d38cf": {
          "model_module": "@jupyter-widgets/controls",
          "model_name": "HTMLModel",
          "model_module_version": "1.5.0",
          "state": {
            "_dom_classes": [],
            "_model_module": "@jupyter-widgets/controls",
            "_model_module_version": "1.5.0",
            "_model_name": "HTMLModel",
            "_view_count": null,
            "_view_module": "@jupyter-widgets/controls",
            "_view_module_version": "1.5.0",
            "_view_name": "HTMLView",
            "description": "",
            "description_tooltip": null,
            "layout": "IPY_MODEL_a70aa8e76ded4cad95e85d38084af538",
            "placeholder": "​",
            "style": "IPY_MODEL_0f90602387f3459e86d06031b3134d94",
            "value": "Dl Completed...: 100%"
          }
        },
        "f3d36751f30b43848bf346a906d1a53e": {
          "model_module": "@jupyter-widgets/controls",
          "model_name": "FloatProgressModel",
          "model_module_version": "1.5.0",
          "state": {
            "_dom_classes": [],
            "_model_module": "@jupyter-widgets/controls",
            "_model_module_version": "1.5.0",
            "_model_name": "FloatProgressModel",
            "_view_count": null,
            "_view_module": "@jupyter-widgets/controls",
            "_view_module_version": "1.5.0",
            "_view_name": "ProgressView",
            "bar_style": "success",
            "description": "",
            "description_tooltip": null,
            "layout": "IPY_MODEL_b8f6bea336cb488ca8dd285e91244a44",
            "max": 1,
            "min": 0,
            "orientation": "horizontal",
            "style": "IPY_MODEL_36b47069aec54047aba26f6aca0bb288",
            "value": 1
          }
        },
        "c1a82c24b25941c2b47edc79de0b0436": {
          "model_module": "@jupyter-widgets/controls",
          "model_name": "HTMLModel",
          "model_module_version": "1.5.0",
          "state": {
            "_dom_classes": [],
            "_model_module": "@jupyter-widgets/controls",
            "_model_module_version": "1.5.0",
            "_model_name": "HTMLModel",
            "_view_count": null,
            "_view_module": "@jupyter-widgets/controls",
            "_view_module_version": "1.5.0",
            "_view_name": "HTMLView",
            "description": "",
            "description_tooltip": null,
            "layout": "IPY_MODEL_826704ec6c3042d2b7e9b34d779c900b",
            "placeholder": "​",
            "style": "IPY_MODEL_e4a0f322e871482c85a264a25dbc98e0",
            "value": " 2/2 [03:20&lt;00:00, 117.42s/ url]"
          }
        },
        "7bcdb37100fa4f47aab8cbaae46c9bb5": {
          "model_module": "@jupyter-widgets/base",
          "model_name": "LayoutModel",
          "model_module_version": "1.2.0",
          "state": {
            "_model_module": "@jupyter-widgets/base",
            "_model_module_version": "1.2.0",
            "_model_name": "LayoutModel",
            "_view_count": null,
            "_view_module": "@jupyter-widgets/base",
            "_view_module_version": "1.2.0",
            "_view_name": "LayoutView",
            "align_content": null,
            "align_items": null,
            "align_self": null,
            "border": null,
            "bottom": null,
            "display": null,
            "flex": null,
            "flex_flow": null,
            "grid_area": null,
            "grid_auto_columns": null,
            "grid_auto_flow": null,
            "grid_auto_rows": null,
            "grid_column": null,
            "grid_gap": null,
            "grid_row": null,
            "grid_template_areas": null,
            "grid_template_columns": null,
            "grid_template_rows": null,
            "height": null,
            "justify_content": null,
            "justify_items": null,
            "left": null,
            "margin": null,
            "max_height": null,
            "max_width": null,
            "min_height": null,
            "min_width": null,
            "object_fit": null,
            "object_position": null,
            "order": null,
            "overflow": null,
            "overflow_x": null,
            "overflow_y": null,
            "padding": null,
            "right": null,
            "top": null,
            "visibility": null,
            "width": null
          }
        },
        "a70aa8e76ded4cad95e85d38084af538": {
          "model_module": "@jupyter-widgets/base",
          "model_name": "LayoutModel",
          "model_module_version": "1.2.0",
          "state": {
            "_model_module": "@jupyter-widgets/base",
            "_model_module_version": "1.2.0",
            "_model_name": "LayoutModel",
            "_view_count": null,
            "_view_module": "@jupyter-widgets/base",
            "_view_module_version": "1.2.0",
            "_view_name": "LayoutView",
            "align_content": null,
            "align_items": null,
            "align_self": null,
            "border": null,
            "bottom": null,
            "display": null,
            "flex": null,
            "flex_flow": null,
            "grid_area": null,
            "grid_auto_columns": null,
            "grid_auto_flow": null,
            "grid_auto_rows": null,
            "grid_column": null,
            "grid_gap": null,
            "grid_row": null,
            "grid_template_areas": null,
            "grid_template_columns": null,
            "grid_template_rows": null,
            "height": null,
            "justify_content": null,
            "justify_items": null,
            "left": null,
            "margin": null,
            "max_height": null,
            "max_width": null,
            "min_height": null,
            "min_width": null,
            "object_fit": null,
            "object_position": null,
            "order": null,
            "overflow": null,
            "overflow_x": null,
            "overflow_y": null,
            "padding": null,
            "right": null,
            "top": null,
            "visibility": null,
            "width": null
          }
        },
        "0f90602387f3459e86d06031b3134d94": {
          "model_module": "@jupyter-widgets/controls",
          "model_name": "DescriptionStyleModel",
          "model_module_version": "1.5.0",
          "state": {
            "_model_module": "@jupyter-widgets/controls",
            "_model_module_version": "1.5.0",
            "_model_name": "DescriptionStyleModel",
            "_view_count": null,
            "_view_module": "@jupyter-widgets/base",
            "_view_module_version": "1.2.0",
            "_view_name": "StyleView",
            "description_width": ""
          }
        },
        "b8f6bea336cb488ca8dd285e91244a44": {
          "model_module": "@jupyter-widgets/base",
          "model_name": "LayoutModel",
          "model_module_version": "1.2.0",
          "state": {
            "_model_module": "@jupyter-widgets/base",
            "_model_module_version": "1.2.0",
            "_model_name": "LayoutModel",
            "_view_count": null,
            "_view_module": "@jupyter-widgets/base",
            "_view_module_version": "1.2.0",
            "_view_name": "LayoutView",
            "align_content": null,
            "align_items": null,
            "align_self": null,
            "border": null,
            "bottom": null,
            "display": null,
            "flex": null,
            "flex_flow": null,
            "grid_area": null,
            "grid_auto_columns": null,
            "grid_auto_flow": null,
            "grid_auto_rows": null,
            "grid_column": null,
            "grid_gap": null,
            "grid_row": null,
            "grid_template_areas": null,
            "grid_template_columns": null,
            "grid_template_rows": null,
            "height": null,
            "justify_content": null,
            "justify_items": null,
            "left": null,
            "margin": null,
            "max_height": null,
            "max_width": null,
            "min_height": null,
            "min_width": null,
            "object_fit": null,
            "object_position": null,
            "order": null,
            "overflow": null,
            "overflow_x": null,
            "overflow_y": null,
            "padding": null,
            "right": null,
            "top": null,
            "visibility": null,
            "width": "20px"
          }
        },
        "36b47069aec54047aba26f6aca0bb288": {
          "model_module": "@jupyter-widgets/controls",
          "model_name": "ProgressStyleModel",
          "model_module_version": "1.5.0",
          "state": {
            "_model_module": "@jupyter-widgets/controls",
            "_model_module_version": "1.5.0",
            "_model_name": "ProgressStyleModel",
            "_view_count": null,
            "_view_module": "@jupyter-widgets/base",
            "_view_module_version": "1.2.0",
            "_view_name": "StyleView",
            "bar_color": null,
            "description_width": ""
          }
        },
        "826704ec6c3042d2b7e9b34d779c900b": {
          "model_module": "@jupyter-widgets/base",
          "model_name": "LayoutModel",
          "model_module_version": "1.2.0",
          "state": {
            "_model_module": "@jupyter-widgets/base",
            "_model_module_version": "1.2.0",
            "_model_name": "LayoutModel",
            "_view_count": null,
            "_view_module": "@jupyter-widgets/base",
            "_view_module_version": "1.2.0",
            "_view_name": "LayoutView",
            "align_content": null,
            "align_items": null,
            "align_self": null,
            "border": null,
            "bottom": null,
            "display": null,
            "flex": null,
            "flex_flow": null,
            "grid_area": null,
            "grid_auto_columns": null,
            "grid_auto_flow": null,
            "grid_auto_rows": null,
            "grid_column": null,
            "grid_gap": null,
            "grid_row": null,
            "grid_template_areas": null,
            "grid_template_columns": null,
            "grid_template_rows": null,
            "height": null,
            "justify_content": null,
            "justify_items": null,
            "left": null,
            "margin": null,
            "max_height": null,
            "max_width": null,
            "min_height": null,
            "min_width": null,
            "object_fit": null,
            "object_position": null,
            "order": null,
            "overflow": null,
            "overflow_x": null,
            "overflow_y": null,
            "padding": null,
            "right": null,
            "top": null,
            "visibility": null,
            "width": null
          }
        },
        "e4a0f322e871482c85a264a25dbc98e0": {
          "model_module": "@jupyter-widgets/controls",
          "model_name": "DescriptionStyleModel",
          "model_module_version": "1.5.0",
          "state": {
            "_model_module": "@jupyter-widgets/controls",
            "_model_module_version": "1.5.0",
            "_model_name": "DescriptionStyleModel",
            "_view_count": null,
            "_view_module": "@jupyter-widgets/base",
            "_view_module_version": "1.2.0",
            "_view_name": "StyleView",
            "description_width": ""
          }
        },
        "1ecca77f87074929a3b813372497cb6c": {
          "model_module": "@jupyter-widgets/controls",
          "model_name": "HBoxModel",
          "model_module_version": "1.5.0",
          "state": {
            "_dom_classes": [],
            "_model_module": "@jupyter-widgets/controls",
            "_model_module_version": "1.5.0",
            "_model_name": "HBoxModel",
            "_view_count": null,
            "_view_module": "@jupyter-widgets/controls",
            "_view_module_version": "1.5.0",
            "_view_name": "HBoxView",
            "box_style": "",
            "children": [
              "IPY_MODEL_06b3a88532044f38ae9a43692f4b7b14",
              "IPY_MODEL_58cdb9f09bd041f5bec1139055ab8673",
              "IPY_MODEL_b79f79893b7b4df0843affb65126ace5"
            ],
            "layout": "IPY_MODEL_4e9c1c1831634633914903db354d8f53"
          }
        },
        "06b3a88532044f38ae9a43692f4b7b14": {
          "model_module": "@jupyter-widgets/controls",
          "model_name": "HTMLModel",
          "model_module_version": "1.5.0",
          "state": {
            "_dom_classes": [],
            "_model_module": "@jupyter-widgets/controls",
            "_model_module_version": "1.5.0",
            "_model_name": "HTMLModel",
            "_view_count": null,
            "_view_module": "@jupyter-widgets/controls",
            "_view_module_version": "1.5.0",
            "_view_name": "HTMLView",
            "description": "",
            "description_tooltip": null,
            "layout": "IPY_MODEL_96d56a9da3cf4aaabdf81b5448a61570",
            "placeholder": "​",
            "style": "IPY_MODEL_74c33864bcba411696614116549ba582",
            "value": "Dl Size...: 100%"
          }
        },
        "58cdb9f09bd041f5bec1139055ab8673": {
          "model_module": "@jupyter-widgets/controls",
          "model_name": "FloatProgressModel",
          "model_module_version": "1.5.0",
          "state": {
            "_dom_classes": [],
            "_model_module": "@jupyter-widgets/controls",
            "_model_module_version": "1.5.0",
            "_model_name": "FloatProgressModel",
            "_view_count": null,
            "_view_module": "@jupyter-widgets/controls",
            "_view_module_version": "1.5.0",
            "_view_name": "ProgressView",
            "bar_style": "success",
            "description": "",
            "description_tooltip": null,
            "layout": "IPY_MODEL_c725ee821d8d41af9fec3793d253d6a3",
            "max": 1,
            "min": 0,
            "orientation": "horizontal",
            "style": "IPY_MODEL_2386e2f62fc34cc4a836e98242c4cb5b",
            "value": 1
          }
        },
        "b79f79893b7b4df0843affb65126ace5": {
          "model_module": "@jupyter-widgets/controls",
          "model_name": "HTMLModel",
          "model_module_version": "1.5.0",
          "state": {
            "_dom_classes": [],
            "_model_module": "@jupyter-widgets/controls",
            "_model_module_version": "1.5.0",
            "_model_name": "HTMLModel",
            "_view_count": null,
            "_view_module": "@jupyter-widgets/controls",
            "_view_module_version": "1.5.0",
            "_view_name": "HTMLView",
            "description": "",
            "description_tooltip": null,
            "layout": "IPY_MODEL_9e52d963615042b49fc56e7e4271ebb2",
            "placeholder": "​",
            "style": "IPY_MODEL_02f8d96d2c054610bf5cc85eff0e7d23",
            "value": " 8526/8526 [03:20&lt;00:00, 53.39 MiB/s]"
          }
        },
        "4e9c1c1831634633914903db354d8f53": {
          "model_module": "@jupyter-widgets/base",
          "model_name": "LayoutModel",
          "model_module_version": "1.2.0",
          "state": {
            "_model_module": "@jupyter-widgets/base",
            "_model_module_version": "1.2.0",
            "_model_name": "LayoutModel",
            "_view_count": null,
            "_view_module": "@jupyter-widgets/base",
            "_view_module_version": "1.2.0",
            "_view_name": "LayoutView",
            "align_content": null,
            "align_items": null,
            "align_self": null,
            "border": null,
            "bottom": null,
            "display": null,
            "flex": null,
            "flex_flow": null,
            "grid_area": null,
            "grid_auto_columns": null,
            "grid_auto_flow": null,
            "grid_auto_rows": null,
            "grid_column": null,
            "grid_gap": null,
            "grid_row": null,
            "grid_template_areas": null,
            "grid_template_columns": null,
            "grid_template_rows": null,
            "height": null,
            "justify_content": null,
            "justify_items": null,
            "left": null,
            "margin": null,
            "max_height": null,
            "max_width": null,
            "min_height": null,
            "min_width": null,
            "object_fit": null,
            "object_position": null,
            "order": null,
            "overflow": null,
            "overflow_x": null,
            "overflow_y": null,
            "padding": null,
            "right": null,
            "top": null,
            "visibility": null,
            "width": null
          }
        },
        "96d56a9da3cf4aaabdf81b5448a61570": {
          "model_module": "@jupyter-widgets/base",
          "model_name": "LayoutModel",
          "model_module_version": "1.2.0",
          "state": {
            "_model_module": "@jupyter-widgets/base",
            "_model_module_version": "1.2.0",
            "_model_name": "LayoutModel",
            "_view_count": null,
            "_view_module": "@jupyter-widgets/base",
            "_view_module_version": "1.2.0",
            "_view_name": "LayoutView",
            "align_content": null,
            "align_items": null,
            "align_self": null,
            "border": null,
            "bottom": null,
            "display": null,
            "flex": null,
            "flex_flow": null,
            "grid_area": null,
            "grid_auto_columns": null,
            "grid_auto_flow": null,
            "grid_auto_rows": null,
            "grid_column": null,
            "grid_gap": null,
            "grid_row": null,
            "grid_template_areas": null,
            "grid_template_columns": null,
            "grid_template_rows": null,
            "height": null,
            "justify_content": null,
            "justify_items": null,
            "left": null,
            "margin": null,
            "max_height": null,
            "max_width": null,
            "min_height": null,
            "min_width": null,
            "object_fit": null,
            "object_position": null,
            "order": null,
            "overflow": null,
            "overflow_x": null,
            "overflow_y": null,
            "padding": null,
            "right": null,
            "top": null,
            "visibility": null,
            "width": null
          }
        },
        "74c33864bcba411696614116549ba582": {
          "model_module": "@jupyter-widgets/controls",
          "model_name": "DescriptionStyleModel",
          "model_module_version": "1.5.0",
          "state": {
            "_model_module": "@jupyter-widgets/controls",
            "_model_module_version": "1.5.0",
            "_model_name": "DescriptionStyleModel",
            "_view_count": null,
            "_view_module": "@jupyter-widgets/base",
            "_view_module_version": "1.2.0",
            "_view_name": "StyleView",
            "description_width": ""
          }
        },
        "c725ee821d8d41af9fec3793d253d6a3": {
          "model_module": "@jupyter-widgets/base",
          "model_name": "LayoutModel",
          "model_module_version": "1.2.0",
          "state": {
            "_model_module": "@jupyter-widgets/base",
            "_model_module_version": "1.2.0",
            "_model_name": "LayoutModel",
            "_view_count": null,
            "_view_module": "@jupyter-widgets/base",
            "_view_module_version": "1.2.0",
            "_view_name": "LayoutView",
            "align_content": null,
            "align_items": null,
            "align_self": null,
            "border": null,
            "bottom": null,
            "display": null,
            "flex": null,
            "flex_flow": null,
            "grid_area": null,
            "grid_auto_columns": null,
            "grid_auto_flow": null,
            "grid_auto_rows": null,
            "grid_column": null,
            "grid_gap": null,
            "grid_row": null,
            "grid_template_areas": null,
            "grid_template_columns": null,
            "grid_template_rows": null,
            "height": null,
            "justify_content": null,
            "justify_items": null,
            "left": null,
            "margin": null,
            "max_height": null,
            "max_width": null,
            "min_height": null,
            "min_width": null,
            "object_fit": null,
            "object_position": null,
            "order": null,
            "overflow": null,
            "overflow_x": null,
            "overflow_y": null,
            "padding": null,
            "right": null,
            "top": null,
            "visibility": null,
            "width": "20px"
          }
        },
        "2386e2f62fc34cc4a836e98242c4cb5b": {
          "model_module": "@jupyter-widgets/controls",
          "model_name": "ProgressStyleModel",
          "model_module_version": "1.5.0",
          "state": {
            "_model_module": "@jupyter-widgets/controls",
            "_model_module_version": "1.5.0",
            "_model_name": "ProgressStyleModel",
            "_view_count": null,
            "_view_module": "@jupyter-widgets/base",
            "_view_module_version": "1.2.0",
            "_view_name": "StyleView",
            "bar_color": null,
            "description_width": ""
          }
        },
        "9e52d963615042b49fc56e7e4271ebb2": {
          "model_module": "@jupyter-widgets/base",
          "model_name": "LayoutModel",
          "model_module_version": "1.2.0",
          "state": {
            "_model_module": "@jupyter-widgets/base",
            "_model_module_version": "1.2.0",
            "_model_name": "LayoutModel",
            "_view_count": null,
            "_view_module": "@jupyter-widgets/base",
            "_view_module_version": "1.2.0",
            "_view_name": "LayoutView",
            "align_content": null,
            "align_items": null,
            "align_self": null,
            "border": null,
            "bottom": null,
            "display": null,
            "flex": null,
            "flex_flow": null,
            "grid_area": null,
            "grid_auto_columns": null,
            "grid_auto_flow": null,
            "grid_auto_rows": null,
            "grid_column": null,
            "grid_gap": null,
            "grid_row": null,
            "grid_template_areas": null,
            "grid_template_columns": null,
            "grid_template_rows": null,
            "height": null,
            "justify_content": null,
            "justify_items": null,
            "left": null,
            "margin": null,
            "max_height": null,
            "max_width": null,
            "min_height": null,
            "min_width": null,
            "object_fit": null,
            "object_position": null,
            "order": null,
            "overflow": null,
            "overflow_x": null,
            "overflow_y": null,
            "padding": null,
            "right": null,
            "top": null,
            "visibility": null,
            "width": null
          }
        },
        "02f8d96d2c054610bf5cc85eff0e7d23": {
          "model_module": "@jupyter-widgets/controls",
          "model_name": "DescriptionStyleModel",
          "model_module_version": "1.5.0",
          "state": {
            "_model_module": "@jupyter-widgets/controls",
            "_model_module_version": "1.5.0",
            "_model_name": "DescriptionStyleModel",
            "_view_count": null,
            "_view_module": "@jupyter-widgets/base",
            "_view_module_version": "1.2.0",
            "_view_name": "StyleView",
            "description_width": ""
          }
        },
        "ee61e48c99324a279810f32a2181c090": {
          "model_module": "@jupyter-widgets/controls",
          "model_name": "HBoxModel",
          "model_module_version": "1.5.0",
          "state": {
            "_dom_classes": [],
            "_model_module": "@jupyter-widgets/controls",
            "_model_module_version": "1.5.0",
            "_model_name": "HBoxModel",
            "_view_count": null,
            "_view_module": "@jupyter-widgets/controls",
            "_view_module_version": "1.5.0",
            "_view_name": "HBoxView",
            "box_style": "",
            "children": [
              "IPY_MODEL_aa94342b6b1a466fb4a9fc928f6b17ac",
              "IPY_MODEL_d2aa90c22f5a4d59877617f437f569f8",
              "IPY_MODEL_f47a804eeaa145289f988dfc1801565b"
            ],
            "layout": "IPY_MODEL_2f58c78604c34993a126bf55edac11a0"
          }
        },
        "aa94342b6b1a466fb4a9fc928f6b17ac": {
          "model_module": "@jupyter-widgets/controls",
          "model_name": "HTMLModel",
          "model_module_version": "1.5.0",
          "state": {
            "_dom_classes": [],
            "_model_module": "@jupyter-widgets/controls",
            "_model_module_version": "1.5.0",
            "_model_name": "HTMLModel",
            "_view_count": null,
            "_view_module": "@jupyter-widgets/controls",
            "_view_module_version": "1.5.0",
            "_view_name": "HTMLView",
            "description": "",
            "description_tooltip": null,
            "layout": "IPY_MODEL_e4f0e753f9b64883bb08f468bb0ae76e",
            "placeholder": "​",
            "style": "IPY_MODEL_0fcdc01a0d5e4281bf5d9c215edc4e2d",
            "value": "Extraction completed...: 100%"
          }
        },
        "d2aa90c22f5a4d59877617f437f569f8": {
          "model_module": "@jupyter-widgets/controls",
          "model_name": "FloatProgressModel",
          "model_module_version": "1.5.0",
          "state": {
            "_dom_classes": [],
            "_model_module": "@jupyter-widgets/controls",
            "_model_module_version": "1.5.0",
            "_model_name": "FloatProgressModel",
            "_view_count": null,
            "_view_module": "@jupyter-widgets/controls",
            "_view_module_version": "1.5.0",
            "_view_name": "ProgressView",
            "bar_style": "success",
            "description": "",
            "description_tooltip": null,
            "layout": "IPY_MODEL_8b54170549a349b1bc24aeeb650e197f",
            "max": 1,
            "min": 0,
            "orientation": "horizontal",
            "style": "IPY_MODEL_5e681e80f4994bc4bcd2cb65330546ce",
            "value": 1
          }
        },
        "f47a804eeaa145289f988dfc1801565b": {
          "model_module": "@jupyter-widgets/controls",
          "model_name": "HTMLModel",
          "model_module_version": "1.5.0",
          "state": {
            "_dom_classes": [],
            "_model_module": "@jupyter-widgets/controls",
            "_model_module_version": "1.5.0",
            "_model_name": "HTMLModel",
            "_view_count": null,
            "_view_module": "@jupyter-widgets/controls",
            "_view_module_version": "1.5.0",
            "_view_name": "HTMLView",
            "description": "",
            "description_tooltip": null,
            "layout": "IPY_MODEL_9d77b4baae324525952b65ea0721ad9f",
            "placeholder": "​",
            "style": "IPY_MODEL_58be5548380a40edbe9a84ccfe65e730",
            "value": " 1/1 [03:20&lt;00:00,  4.80s/ file]"
          }
        },
        "2f58c78604c34993a126bf55edac11a0": {
          "model_module": "@jupyter-widgets/base",
          "model_name": "LayoutModel",
          "model_module_version": "1.2.0",
          "state": {
            "_model_module": "@jupyter-widgets/base",
            "_model_module_version": "1.2.0",
            "_model_name": "LayoutModel",
            "_view_count": null,
            "_view_module": "@jupyter-widgets/base",
            "_view_module_version": "1.2.0",
            "_view_name": "LayoutView",
            "align_content": null,
            "align_items": null,
            "align_self": null,
            "border": null,
            "bottom": null,
            "display": null,
            "flex": null,
            "flex_flow": null,
            "grid_area": null,
            "grid_auto_columns": null,
            "grid_auto_flow": null,
            "grid_auto_rows": null,
            "grid_column": null,
            "grid_gap": null,
            "grid_row": null,
            "grid_template_areas": null,
            "grid_template_columns": null,
            "grid_template_rows": null,
            "height": null,
            "justify_content": null,
            "justify_items": null,
            "left": null,
            "margin": null,
            "max_height": null,
            "max_width": null,
            "min_height": null,
            "min_width": null,
            "object_fit": null,
            "object_position": null,
            "order": null,
            "overflow": null,
            "overflow_x": null,
            "overflow_y": null,
            "padding": null,
            "right": null,
            "top": null,
            "visibility": null,
            "width": null
          }
        },
        "e4f0e753f9b64883bb08f468bb0ae76e": {
          "model_module": "@jupyter-widgets/base",
          "model_name": "LayoutModel",
          "model_module_version": "1.2.0",
          "state": {
            "_model_module": "@jupyter-widgets/base",
            "_model_module_version": "1.2.0",
            "_model_name": "LayoutModel",
            "_view_count": null,
            "_view_module": "@jupyter-widgets/base",
            "_view_module_version": "1.2.0",
            "_view_name": "LayoutView",
            "align_content": null,
            "align_items": null,
            "align_self": null,
            "border": null,
            "bottom": null,
            "display": null,
            "flex": null,
            "flex_flow": null,
            "grid_area": null,
            "grid_auto_columns": null,
            "grid_auto_flow": null,
            "grid_auto_rows": null,
            "grid_column": null,
            "grid_gap": null,
            "grid_row": null,
            "grid_template_areas": null,
            "grid_template_columns": null,
            "grid_template_rows": null,
            "height": null,
            "justify_content": null,
            "justify_items": null,
            "left": null,
            "margin": null,
            "max_height": null,
            "max_width": null,
            "min_height": null,
            "min_width": null,
            "object_fit": null,
            "object_position": null,
            "order": null,
            "overflow": null,
            "overflow_x": null,
            "overflow_y": null,
            "padding": null,
            "right": null,
            "top": null,
            "visibility": null,
            "width": null
          }
        },
        "0fcdc01a0d5e4281bf5d9c215edc4e2d": {
          "model_module": "@jupyter-widgets/controls",
          "model_name": "DescriptionStyleModel",
          "model_module_version": "1.5.0",
          "state": {
            "_model_module": "@jupyter-widgets/controls",
            "_model_module_version": "1.5.0",
            "_model_name": "DescriptionStyleModel",
            "_view_count": null,
            "_view_module": "@jupyter-widgets/base",
            "_view_module_version": "1.2.0",
            "_view_name": "StyleView",
            "description_width": ""
          }
        },
        "8b54170549a349b1bc24aeeb650e197f": {
          "model_module": "@jupyter-widgets/base",
          "model_name": "LayoutModel",
          "model_module_version": "1.2.0",
          "state": {
            "_model_module": "@jupyter-widgets/base",
            "_model_module_version": "1.2.0",
            "_model_name": "LayoutModel",
            "_view_count": null,
            "_view_module": "@jupyter-widgets/base",
            "_view_module_version": "1.2.0",
            "_view_name": "LayoutView",
            "align_content": null,
            "align_items": null,
            "align_self": null,
            "border": null,
            "bottom": null,
            "display": null,
            "flex": null,
            "flex_flow": null,
            "grid_area": null,
            "grid_auto_columns": null,
            "grid_auto_flow": null,
            "grid_auto_rows": null,
            "grid_column": null,
            "grid_gap": null,
            "grid_row": null,
            "grid_template_areas": null,
            "grid_template_columns": null,
            "grid_template_rows": null,
            "height": null,
            "justify_content": null,
            "justify_items": null,
            "left": null,
            "margin": null,
            "max_height": null,
            "max_width": null,
            "min_height": null,
            "min_width": null,
            "object_fit": null,
            "object_position": null,
            "order": null,
            "overflow": null,
            "overflow_x": null,
            "overflow_y": null,
            "padding": null,
            "right": null,
            "top": null,
            "visibility": null,
            "width": "20px"
          }
        },
        "5e681e80f4994bc4bcd2cb65330546ce": {
          "model_module": "@jupyter-widgets/controls",
          "model_name": "ProgressStyleModel",
          "model_module_version": "1.5.0",
          "state": {
            "_model_module": "@jupyter-widgets/controls",
            "_model_module_version": "1.5.0",
            "_model_name": "ProgressStyleModel",
            "_view_count": null,
            "_view_module": "@jupyter-widgets/base",
            "_view_module_version": "1.2.0",
            "_view_name": "StyleView",
            "bar_color": null,
            "description_width": ""
          }
        },
        "9d77b4baae324525952b65ea0721ad9f": {
          "model_module": "@jupyter-widgets/base",
          "model_name": "LayoutModel",
          "model_module_version": "1.2.0",
          "state": {
            "_model_module": "@jupyter-widgets/base",
            "_model_module_version": "1.2.0",
            "_model_name": "LayoutModel",
            "_view_count": null,
            "_view_module": "@jupyter-widgets/base",
            "_view_module_version": "1.2.0",
            "_view_name": "LayoutView",
            "align_content": null,
            "align_items": null,
            "align_self": null,
            "border": null,
            "bottom": null,
            "display": null,
            "flex": null,
            "flex_flow": null,
            "grid_area": null,
            "grid_auto_columns": null,
            "grid_auto_flow": null,
            "grid_auto_rows": null,
            "grid_column": null,
            "grid_gap": null,
            "grid_row": null,
            "grid_template_areas": null,
            "grid_template_columns": null,
            "grid_template_rows": null,
            "height": null,
            "justify_content": null,
            "justify_items": null,
            "left": null,
            "margin": null,
            "max_height": null,
            "max_width": null,
            "min_height": null,
            "min_width": null,
            "object_fit": null,
            "object_position": null,
            "order": null,
            "overflow": null,
            "overflow_x": null,
            "overflow_y": null,
            "padding": null,
            "right": null,
            "top": null,
            "visibility": null,
            "width": null
          }
        },
        "58be5548380a40edbe9a84ccfe65e730": {
          "model_module": "@jupyter-widgets/controls",
          "model_name": "DescriptionStyleModel",
          "model_module_version": "1.5.0",
          "state": {
            "_model_module": "@jupyter-widgets/controls",
            "_model_module_version": "1.5.0",
            "_model_name": "DescriptionStyleModel",
            "_view_count": null,
            "_view_module": "@jupyter-widgets/base",
            "_view_module_version": "1.2.0",
            "_view_name": "StyleView",
            "description_width": ""
          }
        }
      }
    }
  },
  "cells": [
    {
      "cell_type": "code",
      "execution_count": 2,
      "metadata": {
        "id": "11oJd8Tj9kGk"
      },
      "outputs": [],
      "source": [
        "import os\n",
        "import requests\n",
        "import pandas as pd\n",
        "from PIL import Image\n",
        "from io import BytesIO\n",
        "from requests.adapters import HTTPAdapter\n",
        "from requests.packages.urllib3.util.retry import Retry\n",
        "from tqdm import tqdm  # Progress bar"
      ]
    },
    {
      "cell_type": "code",
      "source": [
        "# List of species names to search for\n",
        "species_names =  ['Panthera leo', 'Falco peregrinus', 'Oryx gazella', 'Zalophus wollebaeki', 'Rattus rattus']\n",
        "\n",
        "# Maximum number of images to download for each species\n",
        "max_images_per_species = 100"
      ],
      "metadata": {
        "id": "lHbwfAeg-p6R"
      },
      "execution_count": 3,
      "outputs": []
    },
    {
      "cell_type": "code",
      "source": [
        "# Function to download and resize image\n",
        "def download_and_resize_image(url, save_dir, obs_id, max_size=(256, 256)):\n",
        "    try:\n",
        "        response = requests.get(url, timeout=10)\n",
        "        response.raise_for_status()\n",
        "        img = Image.open(BytesIO(response.content))\n",
        "        img.thumbnail(max_size)\n",
        "\n",
        "        # Ensure the save directory exists\n",
        "        os.makedirs(save_dir, exist_ok=True)\n",
        "\n",
        "        # Save the image with a unique name based on the observation ID\n",
        "        img_name = f\"{obs_id}.jpg\"\n",
        "        img_path = os.path.join(save_dir, img_name)\n",
        "        img.save(img_path)\n",
        "        return img_path\n",
        "    except Exception as e:\n",
        "        return None"
      ],
      "metadata": {
        "id": "8ITiwm0i-tY1"
      },
      "execution_count": 4,
      "outputs": []
    },
    {
      "cell_type": "code",
      "source": [
        "session = requests.Session()\n",
        "retry_strategy = Retry(\n",
        "    total=3,\n",
        "    status_forcelist=[429, 500, 502, 503, 504],\n",
        "    backoff_factor=1\n",
        ")\n",
        "adapter = HTTPAdapter(max_retries=retry_strategy)\n",
        "session.mount('https://', adapter)\n",
        "\n",
        "for species_name in species_names:\n",
        "    try:\n",
        "        # Directory to save images for the current species, change as needed\n",
        "        save_dir = f'/home/DataSet/{species_name.replace(\" \", \"_\")}_images'\n",
        "\n",
        "        # Fetch taxon ID for the current species name\n",
        "        search_response = session.get(f'https://api.inaturalist.org/v1/taxa?q={species_name}&rank=species', timeout=10).json()\n",
        "        if not search_response['results']:\n",
        "            print(f\"No taxon found for species: {species_name}\")\n",
        "            continue\n",
        "\n",
        "        # Assume the first result is the desired species\n",
        "        taxon_id = search_response['results'][0]['id']\n",
        "\n",
        "        observation_ids = []\n",
        "        image_urls = []\n",
        "        common_names = []\n",
        "        scientific_names = []\n",
        "\n",
        "        valid_image_count = 0\n",
        "\n",
        "        # Fetch observations for the current species until the desired number of images is reached\n",
        "        page = 1\n",
        "        while valid_image_count < max_images_per_species:\n",
        "            observations_response = session.get(\n",
        "                f'https://api.inaturalist.org/v1/observations?taxon_id={taxon_id}&per_page=200&page={page}', timeout=10\n",
        "            ).json()\n",
        "            observations = observations_response['results']\n",
        "\n",
        "            if not observations:\n",
        "                break\n",
        "\n",
        "            for observation in tqdm(observations, desc=f'Processing observations for {species_name}'):\n",
        "                if valid_image_count >= max_images_per_species:\n",
        "                    break\n",
        "\n",
        "                # Extract and store observation details\n",
        "                obs_id = observation['id']\n",
        "                taxon = observation.get('taxon')\n",
        "                if taxon:\n",
        "                    common_name = taxon.get('preferred_common_name', 'No common name available')\n",
        "                    scientific_name = taxon.get('name', 'No scientific name available')\n",
        "                else:\n",
        "                    common_name = 'No common name available'\n",
        "                    scientific_name = 'No scientific name available'\n",
        "\n",
        "                # Extract and store image data\n",
        "                if 'observation_photos' in observation and observation['observation_photos']:\n",
        "                    photo = observation['observation_photos'][0]['photo']\n",
        "                    image_url = photo['url']\n",
        "                    image_path = download_and_resize_image(image_url, save_dir=save_dir, obs_id=obs_id)\n",
        "                    if image_path:\n",
        "                        observation_ids.append(obs_id)\n",
        "                        common_names.append(common_name)\n",
        "                        scientific_names.append(scientific_name)\n",
        "                        image_urls.append(image_url)\n",
        "                        valid_image_count += 1\n",
        "\n",
        "            page += 1\n",
        "\n",
        "        # Create a DataFrame with observation details for the current species\n",
        "        data = {\n",
        "            'Observation ID': observation_ids,\n",
        "            'Common Name': common_names,\n",
        "            'Scientific Name': scientific_names,\n",
        "            'Image URL': image_urls,\n",
        "            'Image Path': [os.path.join(save_dir, f\"{obs_id}.jpg\") for obs_id in observation_ids]\n",
        "        }\n",
        "        df = pd.DataFrame(data)\n",
        "\n",
        "        # Cap the dataset size to match the number of images available\n",
        "        if valid_image_count < max_images_per_species:\n",
        "            df = df.head(valid_image_count)\n",
        "\n",
        "        # Save to a CSV file for the current species, change as needed\n",
        "        csv_path = f'/home/{species_name.replace(\" \", \"_\")}_dataset.csv'\n",
        "        df.to_csv(csv_path, index=False)\n",
        "\n",
        "        print(f\"Data saved to {csv_path} for species: {species_name}\")\n",
        "\n",
        "    except requests.exceptions.HTTPError as e:\n",
        "        print(f\"HTTP error occurred: {e}\")"
      ],
      "metadata": {
        "colab": {
          "base_uri": "https://localhost:8080/"
        },
        "id": "NxepZCbD-xDu",
        "outputId": "9a00d5a4-bdc1-4f98-f64c-2b70072ec77a"
      },
      "execution_count": 5,
      "outputs": [
        {
          "output_type": "stream",
          "name": "stderr",
          "text": [
            "Processing observations for Panthera leo:  52%|█████▏    | 104/200 [00:36<00:33,  2.87it/s]\n"
          ]
        },
        {
          "output_type": "stream",
          "name": "stdout",
          "text": [
            "Data saved to /home/Panthera_leo_dataset.csv for species: Panthera leo\n"
          ]
        },
        {
          "output_type": "stream",
          "name": "stderr",
          "text": [
            "Processing observations for Falco peregrinus:  58%|█████▊    | 116/200 [00:33<00:24,  3.44it/s]\n"
          ]
        },
        {
          "output_type": "stream",
          "name": "stdout",
          "text": [
            "Data saved to /home/Falco_peregrinus_dataset.csv for species: Falco peregrinus\n"
          ]
        },
        {
          "output_type": "stream",
          "name": "stderr",
          "text": [
            "Processing observations for Oryx gazella:  50%|█████     | 101/200 [00:32<00:31,  3.12it/s]\n"
          ]
        },
        {
          "output_type": "stream",
          "name": "stdout",
          "text": [
            "Data saved to /home/Oryx_gazella_dataset.csv for species: Oryx gazella\n"
          ]
        },
        {
          "output_type": "stream",
          "name": "stderr",
          "text": [
            "Processing observations for Zalophus wollebaeki:  50%|█████     | 101/200 [00:34<00:33,  2.92it/s]\n"
          ]
        },
        {
          "output_type": "stream",
          "name": "stdout",
          "text": [
            "Data saved to /home/Zalophus_wollebaeki_dataset.csv for species: Zalophus wollebaeki\n"
          ]
        },
        {
          "output_type": "stream",
          "name": "stderr",
          "text": [
            "Processing observations for Rattus rattus:  50%|█████     | 100/200 [00:30<00:30,  3.25it/s]"
          ]
        },
        {
          "output_type": "stream",
          "name": "stdout",
          "text": [
            "Data saved to /home/Rattus_rattus_dataset.csv for species: Rattus rattus\n"
          ]
        },
        {
          "output_type": "stream",
          "name": "stderr",
          "text": [
            "\n"
          ]
        }
      ]
    },
    {
      "cell_type": "code",
      "source": [
        "# Count number of images downloaded\n",
        "path = '/home/DataSet'\n",
        "folders = os.listdir(path)\n",
        "totalImages = 0\n",
        "for folder in folders:\n",
        "  images = os.listdir(f\"{path}/{folder}\")\n",
        "  totalImages += len(images)\n",
        "\n",
        "print(totalImages)"
      ],
      "metadata": {
        "colab": {
          "base_uri": "https://localhost:8080/"
        },
        "id": "Rzon940I-84K",
        "outputId": "4bd192e1-5191-4e6e-855f-6fb416df8803"
      },
      "execution_count": 6,
      "outputs": [
        {
          "output_type": "stream",
          "name": "stdout",
          "text": [
            "500\n"
          ]
        }
      ]
    },
    {
      "cell_type": "code",
      "source": [
        "# For loading in dataset images and annotations\n",
        "import json\n",
        "import os\n",
        "\n",
        "from etils import epath\n",
        "import numpy as np\n",
        "import tensorflow_datasets.public_api as tfds\n",
        "\n",
        "# Displaying sample images\n",
        "import itertools\n",
        "\n",
        "import tarfile\n",
        "import glob\n",
        "import re\n",
        "import matplotlib.pyplot as plt\n",
        "import matplotlib.image as mpimg"
      ],
      "metadata": {
        "id": "4xWYoPndADd4"
      },
      "execution_count": 7,
      "outputs": []
    },
    {
      "cell_type": "code",
      "source": [
        "dm = tfds.download.DownloadManager(download_dir='/home')\n",
        "\n",
        "URL = 'https://ml-inat-competition-datasets.s3.amazonaws.com/2021'    # endpoint to load images from\n",
        "\n",
        "# maps split type to split file name\n",
        "SPLIT_FILENAMES = {\n",
        "    'train': 'train',\n",
        "    'mini': 'train_mini',\n",
        "    'val': 'val',\n",
        "    'test': 'public_test',\n",
        "}\n",
        "\n",
        "# Only load validation set\n",
        "SPLIT = 'val'\n",
        "SPLIT_FILE = SPLIT_FILENAMES[SPLIT]\n",
        "\n",
        "# maps dataset to split tar & json files\n",
        "splitDownloads = {}"
      ],
      "metadata": {
        "id": "pEH7NsNtAGxo"
      },
      "execution_count": 8,
      "outputs": []
    },
    {
      "cell_type": "code",
      "source": [
        "# download image tar file\n",
        "splitDownloads[f'{SPLIT}_img'] =  tfds.download.Resource(\n",
        "          url=f'{URL}/{SPLIT_FILE}.tar.gz',\n",
        "          extract_method=tfds.download.ExtractMethod.NO_EXTRACT,\n",
        "      )\n",
        "# download json annotation file\n",
        "splitDownloads[f'{SPLIT}_json'] = f'{URL}/{SPLIT_FILE}.json.tar.gz'\n",
        "\n",
        "print(splitDownloads)\n",
        "\n",
        "outputPaths = dm.download_and_extract(splitDownloads)     # downloading the tar file containing validation images"
      ],
      "metadata": {
        "colab": {
          "base_uri": "https://localhost:8080/",
          "height": 130,
          "referenced_widgets": [
            "d578fb72e0d142bdbdaa8593d43d179a",
            "39e5a6e5a6334882b230be9cbc0d38cf",
            "f3d36751f30b43848bf346a906d1a53e",
            "c1a82c24b25941c2b47edc79de0b0436",
            "7bcdb37100fa4f47aab8cbaae46c9bb5",
            "a70aa8e76ded4cad95e85d38084af538",
            "0f90602387f3459e86d06031b3134d94",
            "b8f6bea336cb488ca8dd285e91244a44",
            "36b47069aec54047aba26f6aca0bb288",
            "826704ec6c3042d2b7e9b34d779c900b",
            "e4a0f322e871482c85a264a25dbc98e0",
            "1ecca77f87074929a3b813372497cb6c",
            "06b3a88532044f38ae9a43692f4b7b14",
            "58cdb9f09bd041f5bec1139055ab8673",
            "b79f79893b7b4df0843affb65126ace5",
            "4e9c1c1831634633914903db354d8f53",
            "96d56a9da3cf4aaabdf81b5448a61570",
            "74c33864bcba411696614116549ba582",
            "c725ee821d8d41af9fec3793d253d6a3",
            "2386e2f62fc34cc4a836e98242c4cb5b",
            "9e52d963615042b49fc56e7e4271ebb2",
            "02f8d96d2c054610bf5cc85eff0e7d23",
            "ee61e48c99324a279810f32a2181c090",
            "aa94342b6b1a466fb4a9fc928f6b17ac",
            "d2aa90c22f5a4d59877617f437f569f8",
            "f47a804eeaa145289f988dfc1801565b",
            "2f58c78604c34993a126bf55edac11a0",
            "e4f0e753f9b64883bb08f468bb0ae76e",
            "0fcdc01a0d5e4281bf5d9c215edc4e2d",
            "8b54170549a349b1bc24aeeb650e197f",
            "5e681e80f4994bc4bcd2cb65330546ce",
            "9d77b4baae324525952b65ea0721ad9f",
            "58be5548380a40edbe9a84ccfe65e730"
          ]
        },
        "id": "DJmZkhAnAKNc",
        "outputId": "ccc1bfea-487f-4426-ed4b-7439634b335e"
      },
      "execution_count": 9,
      "outputs": [
        {
          "output_type": "stream",
          "name": "stdout",
          "text": [
            "{'val_img': <tensorflow_datasets.core.download.resource.Resource object at 0x7db2208ef880>, 'val_json': 'https://ml-inat-competition-datasets.s3.amazonaws.com/2021/val.json.tar.gz'}\n"
          ]
        },
        {
          "output_type": "display_data",
          "data": {
            "text/plain": [
              "Dl Completed...: 0 url [00:00, ? url/s]"
            ],
            "application/vnd.jupyter.widget-view+json": {
              "version_major": 2,
              "version_minor": 0,
              "model_id": "d578fb72e0d142bdbdaa8593d43d179a"
            }
          },
          "metadata": {}
        },
        {
          "output_type": "display_data",
          "data": {
            "text/plain": [
              "Dl Size...: 0 MiB [00:00, ? MiB/s]"
            ],
            "application/vnd.jupyter.widget-view+json": {
              "version_major": 2,
              "version_minor": 0,
              "model_id": "1ecca77f87074929a3b813372497cb6c"
            }
          },
          "metadata": {}
        },
        {
          "output_type": "display_data",
          "data": {
            "text/plain": [
              "Extraction completed...: 0 file [00:00, ? file/s]"
            ],
            "application/vnd.jupyter.widget-view+json": {
              "version_major": 2,
              "version_minor": 0,
              "model_id": "ee61e48c99324a279810f32a2181c090"
            }
          },
          "metadata": {}
        }
      ]
    },
    {
      "cell_type": "code",
      "source": [
        "# paths to loaded dataset\n",
        "\n",
        "imagesArchive = outputPaths[f'{SPLIT}_img']\n",
        "jsonFile = os.path.join(outputPaths[f'{SPLIT}_json'],f'{SPLIT_FILE}.json')"
      ],
      "metadata": {
        "id": "iij8voYcAZEf"
      },
      "execution_count": 11,
      "outputs": []
    },
    {
      "cell_type": "code",
      "source": [
        "with epath.Path(jsonFile).open('r') as f:\n",
        "      inatJson = json.load(f)"
      ],
      "metadata": {
        "id": "pWFbfYjbA_MG"
      },
      "execution_count": 12,
      "outputs": []
    },
    {
      "cell_type": "code",
      "source": [
        "def format(label: str):\n",
        "      # replace ' ' with '_' in a string\n",
        "      return label.lower().replace(' ', '_')\n",
        "\n",
        "# retrieves annotations (categories, id and image directory) for an image\n",
        "def getAnnotation(idx, image_id):\n",
        "\n",
        "      if 'annotations' in inatJson:\n",
        "\n",
        "        # get the annotations object that matches our ID\n",
        "        annotation = inatJson['annotations'][idx]\n",
        "        assert annotation['image_id'] == image_id\n",
        "\n",
        "        # retrieve 'categories' object corresponding to the id in the annotation object\n",
        "        cat = inatJson['categories'][annotation['category_id']]\n",
        "\n",
        "        # extract important metadata\n",
        "        category = format(cat['name'])\n",
        "        superCategory = format(cat['supercategory'])\n",
        "        imageDirectory = cat['image_dir_name']\n",
        "\n",
        "      else:\n",
        "        # no metadata found\n",
        "        category, superCategory, imageDirectory = -1, -1, -1\n",
        "\n",
        "      return category, superCategory, imageDirectory"
      ],
      "metadata": {
        "id": "vKA9_lw2BA_g"
      },
      "execution_count": 13,
      "outputs": []
    },
    {
      "cell_type": "code",
      "source": [
        "# List containing the vertebrates recognised by iNaturalist Dataset\n",
        "vertebrates = [\"jawless_fishes\", \"hagfishes\", \"lampreys\", \"ray-finned_fishes\", \"amphibians\", \"birds\", \"elasmobranchs\", \"chimaeras\", \"mammals\", \"reptiles\", \"lobe-finned_fishes\"]"
      ],
      "metadata": {
        "id": "vOBoLl-wBDgV"
      },
      "execution_count": 14,
      "outputs": []
    },
    {
      "cell_type": "code",
      "source": [
        "# List containing the animals that user want to see/train on\n",
        "animalsToRetrieve = [format(name).lower() for name in species_names]      # formated so that images can be recognised\n",
        "print(animalsToRetrieve)\n",
        ""
      ],
      "metadata": {
        "colab": {
          "base_uri": "https://localhost:8080/"
        },
        "id": "HeTmy9H6BIVt",
        "outputId": "ac14b29b-553d-4f81-871a-ac5d4f53260d"
      },
      "execution_count": 15,
      "outputs": [
        {
          "output_type": "stream",
          "name": "stdout",
          "text": [
            "['panthera_leo', 'falco_peregrinus', 'oryx_gazella', 'zalophus_wollebaeki', 'rattus_rattus']\n"
          ]
        }
      ]
    },
    {
      "cell_type": "code",
      "source": [
        "annotatedFiles = {}   # stores specified annotation and metadata of species\n",
        "\n",
        "for idx, image in enumerate(inatJson['images']):\n",
        "\n",
        "  category, superCategory, imageDirectory = getAnnotation(idx, image['id'])\n",
        "  if (superCategory in vertebrates) and (category in animalsToRetrieve):      # Checking if the species is a vertebrate and checking latin name of the animal (using category)\n",
        "    field = os.path.basename(image['file_name']).split('.')[0]\n",
        "\n",
        "    annotatedFiles[field] = {\n",
        "        'id': image['id'],\n",
        "        'file_id': field,\n",
        "        'label': category,      # latin name\n",
        "        'superCategory': superCategory,\n",
        "        'imagedirectory' : imageDirectory,\n",
        "    }"
      ],
      "metadata": {
        "id": "3LoRZwk3BKL0"
      },
      "execution_count": 16,
      "outputs": []
    },
    {
      "cell_type": "code",
      "source": [
        "print(annotatedFiles)\n",
        "print(len(annotatedFiles))"
      ],
      "metadata": {
        "colab": {
          "base_uri": "https://localhost:8080/"
        },
        "id": "c6StlUeXBMd3",
        "outputId": "9b16ebd7-14d7-4213-c07b-febbb8b18664"
      },
      "execution_count": 17,
      "outputs": [
        {
          "output_type": "stream",
          "name": "stdout",
          "text": [
            "{'300262a5-cf42-4296-ad50-d9d305e19a80': {'id': 2687910, 'file_id': '300262a5-cf42-4296-ad50-d9d305e19a80', 'label': 'panthera_leo', 'superCategory': 'mammals', 'imagedirectory': '04682_Animalia_Chordata_Mammalia_Carnivora_Felidae_Panthera_leo'}, '68def9b7-2b36-4a03-800b-e13eea5b9f57': {'id': 2690192, 'file_id': '68def9b7-2b36-4a03-800b-e13eea5b9f57', 'label': 'rattus_rattus', 'superCategory': 'mammals', 'imagedirectory': '04815_Animalia_Chordata_Mammalia_Rodentia_Muridae_Rattus_rattus'}, 'b1acd7a9-9b88-4f90-a9ae-64cf3332ad89': {'id': 2690373, 'file_id': 'b1acd7a9-9b88-4f90-a9ae-64cf3332ad89', 'label': 'rattus_rattus', 'superCategory': 'mammals', 'imagedirectory': '04815_Animalia_Chordata_Mammalia_Rodentia_Muridae_Rattus_rattus'}, '9ba73392-081b-4813-bc2f-11bf64bf8a7d': {'id': 2690706, 'file_id': '9ba73392-081b-4813-bc2f-11bf64bf8a7d', 'label': 'zalophus_wollebaeki', 'superCategory': 'mammals', 'imagedirectory': '04710_Animalia_Chordata_Mammalia_Carnivora_Otariidae_Zalophus_wollebaeki'}, '16007a46-1c4f-4e44-978b-f2f6f7042393': {'id': 2691834, 'file_id': '16007a46-1c4f-4e44-978b-f2f6f7042393', 'label': 'oryx_gazella', 'superCategory': 'mammals', 'imagedirectory': '04633_Animalia_Chordata_Mammalia_Artiodactyla_Bovidae_Oryx_gazella'}, '09966c43-ca26-4c1a-bb8b-79356dd4b4cd': {'id': 2692465, 'file_id': '09966c43-ca26-4c1a-bb8b-79356dd4b4cd', 'label': 'falco_peregrinus', 'superCategory': 'birds', 'imagedirectory': '03601_Animalia_Chordata_Aves_Falconiformes_Falconidae_Falco_peregrinus'}, '10336fc9-ee73-483d-9db0-19cc30090ab7': {'id': 2692776, 'file_id': '10336fc9-ee73-483d-9db0-19cc30090ab7', 'label': 'rattus_rattus', 'superCategory': 'mammals', 'imagedirectory': '04815_Animalia_Chordata_Mammalia_Rodentia_Muridae_Rattus_rattus'}, 'e8a3c653-8183-4792-94bc-124f45aecbf3': {'id': 2693305, 'file_id': 'e8a3c653-8183-4792-94bc-124f45aecbf3', 'label': 'falco_peregrinus', 'superCategory': 'birds', 'imagedirectory': '03601_Animalia_Chordata_Aves_Falconiformes_Falconidae_Falco_peregrinus'}, '2e71b939-84b2-404a-ae33-adf3f49a1fdd': {'id': 2693645, 'file_id': '2e71b939-84b2-404a-ae33-adf3f49a1fdd', 'label': 'oryx_gazella', 'superCategory': 'mammals', 'imagedirectory': '04633_Animalia_Chordata_Mammalia_Artiodactyla_Bovidae_Oryx_gazella'}, 'ad852506-a583-4441-a617-5f255de3dd2b': {'id': 2697720, 'file_id': 'ad852506-a583-4441-a617-5f255de3dd2b', 'label': 'zalophus_wollebaeki', 'superCategory': 'mammals', 'imagedirectory': '04710_Animalia_Chordata_Mammalia_Carnivora_Otariidae_Zalophus_wollebaeki'}, 'cc7f9e74-f7d5-4e2f-8aa5-90e0b52f3077': {'id': 2706401, 'file_id': 'cc7f9e74-f7d5-4e2f-8aa5-90e0b52f3077', 'label': 'falco_peregrinus', 'superCategory': 'birds', 'imagedirectory': '03601_Animalia_Chordata_Aves_Falconiformes_Falconidae_Falco_peregrinus'}, '8607ad90-ad48-4da5-b088-b9d7ab90d771': {'id': 2707559, 'file_id': '8607ad90-ad48-4da5-b088-b9d7ab90d771', 'label': 'oryx_gazella', 'superCategory': 'mammals', 'imagedirectory': '04633_Animalia_Chordata_Mammalia_Artiodactyla_Bovidae_Oryx_gazella'}, 'ca25da17-453a-472f-b0b1-8c46a36b2948': {'id': 2710221, 'file_id': 'ca25da17-453a-472f-b0b1-8c46a36b2948', 'label': 'panthera_leo', 'superCategory': 'mammals', 'imagedirectory': '04682_Animalia_Chordata_Mammalia_Carnivora_Felidae_Panthera_leo'}, 'fe81176c-f896-4ff9-af53-602010fe6fd5': {'id': 2710345, 'file_id': 'fe81176c-f896-4ff9-af53-602010fe6fd5', 'label': 'oryx_gazella', 'superCategory': 'mammals', 'imagedirectory': '04633_Animalia_Chordata_Mammalia_Artiodactyla_Bovidae_Oryx_gazella'}, '900b7f0a-ce1e-458e-9051-2c386c5de384': {'id': 2710404, 'file_id': '900b7f0a-ce1e-458e-9051-2c386c5de384', 'label': 'zalophus_wollebaeki', 'superCategory': 'mammals', 'imagedirectory': '04710_Animalia_Chordata_Mammalia_Carnivora_Otariidae_Zalophus_wollebaeki'}, '1fb38970-a060-44bc-a8e5-6943d4c8a194': {'id': 2710600, 'file_id': '1fb38970-a060-44bc-a8e5-6943d4c8a194', 'label': 'rattus_rattus', 'superCategory': 'mammals', 'imagedirectory': '04815_Animalia_Chordata_Mammalia_Rodentia_Muridae_Rattus_rattus'}, 'c038af5b-40a3-4eb4-8abb-231bb6eb6d4d': {'id': 2710721, 'file_id': 'c038af5b-40a3-4eb4-8abb-231bb6eb6d4d', 'label': 'falco_peregrinus', 'superCategory': 'birds', 'imagedirectory': '03601_Animalia_Chordata_Aves_Falconiformes_Falconidae_Falco_peregrinus'}, 'e377fd75-d9dd-4381-8f13-f80b7b527cc2': {'id': 2710833, 'file_id': 'e377fd75-d9dd-4381-8f13-f80b7b527cc2', 'label': 'oryx_gazella', 'superCategory': 'mammals', 'imagedirectory': '04633_Animalia_Chordata_Mammalia_Artiodactyla_Bovidae_Oryx_gazella'}, 'b2c91c10-b39b-406e-b372-15144fcbebd1': {'id': 2712154, 'file_id': 'b2c91c10-b39b-406e-b372-15144fcbebd1', 'label': 'rattus_rattus', 'superCategory': 'mammals', 'imagedirectory': '04815_Animalia_Chordata_Mammalia_Rodentia_Muridae_Rattus_rattus'}, 'ae9adbce-1809-4263-8737-020aee79e657': {'id': 2713425, 'file_id': 'ae9adbce-1809-4263-8737-020aee79e657', 'label': 'panthera_leo', 'superCategory': 'mammals', 'imagedirectory': '04682_Animalia_Chordata_Mammalia_Carnivora_Felidae_Panthera_leo'}, 'c244c16e-f456-483b-b1b7-53d15a381f54': {'id': 2714028, 'file_id': 'c244c16e-f456-483b-b1b7-53d15a381f54', 'label': 'oryx_gazella', 'superCategory': 'mammals', 'imagedirectory': '04633_Animalia_Chordata_Mammalia_Artiodactyla_Bovidae_Oryx_gazella'}, '1e1ab9ab-a871-4869-adec-3033307b68f6': {'id': 2715210, 'file_id': '1e1ab9ab-a871-4869-adec-3033307b68f6', 'label': 'rattus_rattus', 'superCategory': 'mammals', 'imagedirectory': '04815_Animalia_Chordata_Mammalia_Rodentia_Muridae_Rattus_rattus'}, '83b87a73-0f1c-4bf0-9220-86d5789626d9': {'id': 2718258, 'file_id': '83b87a73-0f1c-4bf0-9220-86d5789626d9', 'label': 'panthera_leo', 'superCategory': 'mammals', 'imagedirectory': '04682_Animalia_Chordata_Mammalia_Carnivora_Felidae_Panthera_leo'}, '9cf3d061-5447-47b2-a9d3-31d19e7bc728': {'id': 2723319, 'file_id': '9cf3d061-5447-47b2-a9d3-31d19e7bc728', 'label': 'falco_peregrinus', 'superCategory': 'birds', 'imagedirectory': '03601_Animalia_Chordata_Aves_Falconiformes_Falconidae_Falco_peregrinus'}, '68b370ac-97b1-45d2-a264-cb21efdafae0': {'id': 2730490, 'file_id': '68b370ac-97b1-45d2-a264-cb21efdafae0', 'label': 'falco_peregrinus', 'superCategory': 'birds', 'imagedirectory': '03601_Animalia_Chordata_Aves_Falconiformes_Falconidae_Falco_peregrinus'}, '1a57e6ff-2878-474d-b07e-7a50e1e0139e': {'id': 2731700, 'file_id': '1a57e6ff-2878-474d-b07e-7a50e1e0139e', 'label': 'falco_peregrinus', 'superCategory': 'birds', 'imagedirectory': '03601_Animalia_Chordata_Aves_Falconiformes_Falconidae_Falco_peregrinus'}, '8c7c6de5-945d-412f-8c69-c50e75a30e8a': {'id': 2731730, 'file_id': '8c7c6de5-945d-412f-8c69-c50e75a30e8a', 'label': 'falco_peregrinus', 'superCategory': 'birds', 'imagedirectory': '03601_Animalia_Chordata_Aves_Falconiformes_Falconidae_Falco_peregrinus'}, 'b538898e-54f3-4340-ba91-b782aa164de5': {'id': 2735125, 'file_id': 'b538898e-54f3-4340-ba91-b782aa164de5', 'label': 'zalophus_wollebaeki', 'superCategory': 'mammals', 'imagedirectory': '04710_Animalia_Chordata_Mammalia_Carnivora_Otariidae_Zalophus_wollebaeki'}, 'bcbf1577-1003-4103-8f52-5cea72d5cd96': {'id': 2740320, 'file_id': 'bcbf1577-1003-4103-8f52-5cea72d5cd96', 'label': 'panthera_leo', 'superCategory': 'mammals', 'imagedirectory': '04682_Animalia_Chordata_Mammalia_Carnivora_Felidae_Panthera_leo'}, '94ebed40-f119-4004-bdcc-66f5805d11b1': {'id': 2741804, 'file_id': '94ebed40-f119-4004-bdcc-66f5805d11b1', 'label': 'rattus_rattus', 'superCategory': 'mammals', 'imagedirectory': '04815_Animalia_Chordata_Mammalia_Rodentia_Muridae_Rattus_rattus'}, '17f0a6d0-755b-47c3-9fee-f881e3ab510b': {'id': 2743579, 'file_id': '17f0a6d0-755b-47c3-9fee-f881e3ab510b', 'label': 'oryx_gazella', 'superCategory': 'mammals', 'imagedirectory': '04633_Animalia_Chordata_Mammalia_Artiodactyla_Bovidae_Oryx_gazella'}, '5291b5fc-3a96-4f4b-9d81-b507a233e5c2': {'id': 2750291, 'file_id': '5291b5fc-3a96-4f4b-9d81-b507a233e5c2', 'label': 'zalophus_wollebaeki', 'superCategory': 'mammals', 'imagedirectory': '04710_Animalia_Chordata_Mammalia_Carnivora_Otariidae_Zalophus_wollebaeki'}, '9170a283-7d96-413d-aa69-6279de447174': {'id': 2752738, 'file_id': '9170a283-7d96-413d-aa69-6279de447174', 'label': 'oryx_gazella', 'superCategory': 'mammals', 'imagedirectory': '04633_Animalia_Chordata_Mammalia_Artiodactyla_Bovidae_Oryx_gazella'}, '0fd3c3c8-07bf-40b9-9e18-d2f33e1a9993': {'id': 2756596, 'file_id': '0fd3c3c8-07bf-40b9-9e18-d2f33e1a9993', 'label': 'rattus_rattus', 'superCategory': 'mammals', 'imagedirectory': '04815_Animalia_Chordata_Mammalia_Rodentia_Muridae_Rattus_rattus'}, '25b3ef16-2528-409f-ba37-0b4e0bb92d2d': {'id': 2760875, 'file_id': '25b3ef16-2528-409f-ba37-0b4e0bb92d2d', 'label': 'panthera_leo', 'superCategory': 'mammals', 'imagedirectory': '04682_Animalia_Chordata_Mammalia_Carnivora_Felidae_Panthera_leo'}, 'd3bef561-be3d-42b8-bef3-75ea08635a54': {'id': 2764917, 'file_id': 'd3bef561-be3d-42b8-bef3-75ea08635a54', 'label': 'zalophus_wollebaeki', 'superCategory': 'mammals', 'imagedirectory': '04710_Animalia_Chordata_Mammalia_Carnivora_Otariidae_Zalophus_wollebaeki'}, '9d3b2b09-cfb5-4443-8f78-021a49af8b43': {'id': 2765902, 'file_id': '9d3b2b09-cfb5-4443-8f78-021a49af8b43', 'label': 'zalophus_wollebaeki', 'superCategory': 'mammals', 'imagedirectory': '04710_Animalia_Chordata_Mammalia_Carnivora_Otariidae_Zalophus_wollebaeki'}, 'fa96b055-cead-46a8-9db7-68c1b95a0c9d': {'id': 2769546, 'file_id': 'fa96b055-cead-46a8-9db7-68c1b95a0c9d', 'label': 'rattus_rattus', 'superCategory': 'mammals', 'imagedirectory': '04815_Animalia_Chordata_Mammalia_Rodentia_Muridae_Rattus_rattus'}, '12ba5a34-fb26-42f4-b729-eebe7bb8405a': {'id': 2770092, 'file_id': '12ba5a34-fb26-42f4-b729-eebe7bb8405a', 'label': 'zalophus_wollebaeki', 'superCategory': 'mammals', 'imagedirectory': '04710_Animalia_Chordata_Mammalia_Carnivora_Otariidae_Zalophus_wollebaeki'}, '8a438be6-27f7-483d-9c38-9744c1cedf0b': {'id': 2771757, 'file_id': '8a438be6-27f7-483d-9c38-9744c1cedf0b', 'label': 'oryx_gazella', 'superCategory': 'mammals', 'imagedirectory': '04633_Animalia_Chordata_Mammalia_Artiodactyla_Bovidae_Oryx_gazella'}, '5dcbbcf8-e1b8-400b-b834-5c1e86885cff': {'id': 2772658, 'file_id': '5dcbbcf8-e1b8-400b-b834-5c1e86885cff', 'label': 'panthera_leo', 'superCategory': 'mammals', 'imagedirectory': '04682_Animalia_Chordata_Mammalia_Carnivora_Felidae_Panthera_leo'}, 'e33a4cfe-7148-4f37-8b42-f377409f2027': {'id': 2773848, 'file_id': 'e33a4cfe-7148-4f37-8b42-f377409f2027', 'label': 'rattus_rattus', 'superCategory': 'mammals', 'imagedirectory': '04815_Animalia_Chordata_Mammalia_Rodentia_Muridae_Rattus_rattus'}, '8eb3b671-6ff9-4e0f-8367-4751570621e7': {'id': 2777958, 'file_id': '8eb3b671-6ff9-4e0f-8367-4751570621e7', 'label': 'panthera_leo', 'superCategory': 'mammals', 'imagedirectory': '04682_Animalia_Chordata_Mammalia_Carnivora_Felidae_Panthera_leo'}, 'ecf22b4b-8574-4e9e-a086-80f9979f845e': {'id': 2778875, 'file_id': 'ecf22b4b-8574-4e9e-a086-80f9979f845e', 'label': 'zalophus_wollebaeki', 'superCategory': 'mammals', 'imagedirectory': '04710_Animalia_Chordata_Mammalia_Carnivora_Otariidae_Zalophus_wollebaeki'}, 'b0f0d610-5aba-4df0-86ed-6594e43b567f': {'id': 2779849, 'file_id': 'b0f0d610-5aba-4df0-86ed-6594e43b567f', 'label': 'panthera_leo', 'superCategory': 'mammals', 'imagedirectory': '04682_Animalia_Chordata_Mammalia_Carnivora_Felidae_Panthera_leo'}, '4c0bfdd5-816c-45f4-b637-89d06f7ee157': {'id': 2781699, 'file_id': '4c0bfdd5-816c-45f4-b637-89d06f7ee157', 'label': 'panthera_leo', 'superCategory': 'mammals', 'imagedirectory': '04682_Animalia_Chordata_Mammalia_Carnivora_Felidae_Panthera_leo'}, '47eef763-3a93-4316-8676-9820e2d41c25': {'id': 2784636, 'file_id': '47eef763-3a93-4316-8676-9820e2d41c25', 'label': 'oryx_gazella', 'superCategory': 'mammals', 'imagedirectory': '04633_Animalia_Chordata_Mammalia_Artiodactyla_Bovidae_Oryx_gazella'}, '41832d90-3ecd-4c1e-a2ca-0d28921a6892': {'id': 2785523, 'file_id': '41832d90-3ecd-4c1e-a2ca-0d28921a6892', 'label': 'falco_peregrinus', 'superCategory': 'birds', 'imagedirectory': '03601_Animalia_Chordata_Aves_Falconiformes_Falconidae_Falco_peregrinus'}, '47033512-a343-456d-b086-905a6b3d96a3': {'id': 2786322, 'file_id': '47033512-a343-456d-b086-905a6b3d96a3', 'label': 'falco_peregrinus', 'superCategory': 'birds', 'imagedirectory': '03601_Animalia_Chordata_Aves_Falconiformes_Falconidae_Falco_peregrinus'}, 'd0c54f2e-3fad-43a6-b10f-b7915f6e9f4b': {'id': 2786508, 'file_id': 'd0c54f2e-3fad-43a6-b10f-b7915f6e9f4b', 'label': 'zalophus_wollebaeki', 'superCategory': 'mammals', 'imagedirectory': '04710_Animalia_Chordata_Mammalia_Carnivora_Otariidae_Zalophus_wollebaeki'}}\n",
            "50\n"
          ]
        }
      ]
    },
    {
      "cell_type": "code",
      "source": [
        "\n",
        "# image file paths in tar.gz file\n",
        "imgToExtract = []\n",
        "\n",
        "try:\n",
        "  t = tarfile.open(imagesArchive, 'r')\n",
        "\n",
        "except IOError as e:\n",
        "  print(e)\n",
        "\n",
        "else:\n",
        "\n",
        "  for id,value in annotatedFiles.items():\n",
        "    # create image file path\n",
        "    imgFilePath = f\"val/{value['imagedirectory']}/{id}.jpg\"         # specfying the file path to store the extracted images\n",
        "    imgToExtract.append(imgFilePath)\n",
        "\n",
        "  t.extractall('/home', members=imgToExtract)\n"
      ],
      "metadata": {
        "colab": {
          "base_uri": "https://localhost:8080/",
          "height": 321
        },
        "id": "5F2GiNeiBQOz",
        "outputId": "0d9cb075-1ed9-42f1-8111-c190bc39541e"
      },
      "execution_count": 19,
      "outputs": [
        {
          "output_type": "error",
          "ename": "KeyboardInterrupt",
          "evalue": "",
          "traceback": [
            "\u001b[0;31m---------------------------------------------------------------------------\u001b[0m",
            "\u001b[0;31mKeyboardInterrupt\u001b[0m                         Traceback (most recent call last)",
            "\u001b[0;32m<ipython-input-19-857656e41c91>\u001b[0m in \u001b[0;36m<cell line: 4>\u001b[0;34m()\u001b[0m\n\u001b[1;32m     15\u001b[0m     \u001b[0mimgToExtract\u001b[0m\u001b[0;34m.\u001b[0m\u001b[0mappend\u001b[0m\u001b[0;34m(\u001b[0m\u001b[0mimgFilePath\u001b[0m\u001b[0;34m)\u001b[0m\u001b[0;34m\u001b[0m\u001b[0;34m\u001b[0m\u001b[0m\n\u001b[1;32m     16\u001b[0m \u001b[0;34m\u001b[0m\u001b[0m\n\u001b[0;32m---> 17\u001b[0;31m   \u001b[0mt\u001b[0m\u001b[0;34m.\u001b[0m\u001b[0mextractall\u001b[0m\u001b[0;34m(\u001b[0m\u001b[0;34m'/home'\u001b[0m\u001b[0;34m,\u001b[0m \u001b[0mmembers\u001b[0m\u001b[0;34m=\u001b[0m\u001b[0mimgToExtract\u001b[0m\u001b[0;34m)\u001b[0m\u001b[0;34m\u001b[0m\u001b[0;34m\u001b[0m\u001b[0m\n\u001b[0m",
            "\u001b[0;32m/usr/lib/python3.10/tarfile.py\u001b[0m in \u001b[0;36mextractall\u001b[0;34m(self, path, members, numeric_owner, filter)\u001b[0m\n\u001b[1;32m   2255\u001b[0m                 \u001b[0;31m# extracting contents can reset mtime.\u001b[0m\u001b[0;34m\u001b[0m\u001b[0;34m\u001b[0m\u001b[0m\n\u001b[1;32m   2256\u001b[0m                 \u001b[0mdirectories\u001b[0m\u001b[0;34m.\u001b[0m\u001b[0mappend\u001b[0m\u001b[0;34m(\u001b[0m\u001b[0mtarinfo\u001b[0m\u001b[0;34m)\u001b[0m\u001b[0;34m\u001b[0m\u001b[0;34m\u001b[0m\u001b[0m\n\u001b[0;32m-> 2257\u001b[0;31m             self._extract_one(tarinfo, path, set_attrs=not tarinfo.isdir(),\n\u001b[0m\u001b[1;32m   2258\u001b[0m                               numeric_owner=numeric_owner)\n\u001b[1;32m   2259\u001b[0m \u001b[0;34m\u001b[0m\u001b[0m\n",
            "\u001b[0;32m/usr/lib/python3.10/tarfile.py\u001b[0m in \u001b[0;36m_extract_one\u001b[0;34m(self, tarinfo, path, set_attrs, numeric_owner)\u001b[0m\n\u001b[1;32m   2318\u001b[0m \u001b[0;34m\u001b[0m\u001b[0m\n\u001b[1;32m   2319\u001b[0m         \u001b[0;32mtry\u001b[0m\u001b[0;34m:\u001b[0m\u001b[0;34m\u001b[0m\u001b[0;34m\u001b[0m\u001b[0m\n\u001b[0;32m-> 2320\u001b[0;31m             self._extract_member(tarinfo, os.path.join(path, tarinfo.name),\n\u001b[0m\u001b[1;32m   2321\u001b[0m                                  \u001b[0mset_attrs\u001b[0m\u001b[0;34m=\u001b[0m\u001b[0mset_attrs\u001b[0m\u001b[0;34m,\u001b[0m\u001b[0;34m\u001b[0m\u001b[0;34m\u001b[0m\u001b[0m\n\u001b[1;32m   2322\u001b[0m                                  numeric_owner=numeric_owner)\n",
            "\u001b[0;32m/usr/lib/python3.10/tarfile.py\u001b[0m in \u001b[0;36m_extract_member\u001b[0;34m(self, tarinfo, targetpath, set_attrs, numeric_owner)\u001b[0m\n\u001b[1;32m   2401\u001b[0m \u001b[0;34m\u001b[0m\u001b[0m\n\u001b[1;32m   2402\u001b[0m         \u001b[0;32mif\u001b[0m \u001b[0mtarinfo\u001b[0m\u001b[0;34m.\u001b[0m\u001b[0misreg\u001b[0m\u001b[0;34m(\u001b[0m\u001b[0;34m)\u001b[0m\u001b[0;34m:\u001b[0m\u001b[0;34m\u001b[0m\u001b[0;34m\u001b[0m\u001b[0m\n\u001b[0;32m-> 2403\u001b[0;31m             \u001b[0mself\u001b[0m\u001b[0;34m.\u001b[0m\u001b[0mmakefile\u001b[0m\u001b[0;34m(\u001b[0m\u001b[0mtarinfo\u001b[0m\u001b[0;34m,\u001b[0m \u001b[0mtargetpath\u001b[0m\u001b[0;34m)\u001b[0m\u001b[0;34m\u001b[0m\u001b[0;34m\u001b[0m\u001b[0m\n\u001b[0m\u001b[1;32m   2404\u001b[0m         \u001b[0;32melif\u001b[0m \u001b[0mtarinfo\u001b[0m\u001b[0;34m.\u001b[0m\u001b[0misdir\u001b[0m\u001b[0;34m(\u001b[0m\u001b[0;34m)\u001b[0m\u001b[0;34m:\u001b[0m\u001b[0;34m\u001b[0m\u001b[0;34m\u001b[0m\u001b[0m\n\u001b[1;32m   2405\u001b[0m             \u001b[0mself\u001b[0m\u001b[0;34m.\u001b[0m\u001b[0mmakedir\u001b[0m\u001b[0;34m(\u001b[0m\u001b[0mtarinfo\u001b[0m\u001b[0;34m,\u001b[0m \u001b[0mtargetpath\u001b[0m\u001b[0;34m)\u001b[0m\u001b[0;34m\u001b[0m\u001b[0;34m\u001b[0m\u001b[0m\n",
            "\u001b[0;32m/usr/lib/python3.10/tarfile.py\u001b[0m in \u001b[0;36mmakefile\u001b[0;34m(self, tarinfo, targetpath)\u001b[0m\n\u001b[1;32m   2444\u001b[0m         \"\"\"\n\u001b[1;32m   2445\u001b[0m         \u001b[0msource\u001b[0m \u001b[0;34m=\u001b[0m \u001b[0mself\u001b[0m\u001b[0;34m.\u001b[0m\u001b[0mfileobj\u001b[0m\u001b[0;34m\u001b[0m\u001b[0;34m\u001b[0m\u001b[0m\n\u001b[0;32m-> 2446\u001b[0;31m         \u001b[0msource\u001b[0m\u001b[0;34m.\u001b[0m\u001b[0mseek\u001b[0m\u001b[0;34m(\u001b[0m\u001b[0mtarinfo\u001b[0m\u001b[0;34m.\u001b[0m\u001b[0moffset_data\u001b[0m\u001b[0;34m)\u001b[0m\u001b[0;34m\u001b[0m\u001b[0;34m\u001b[0m\u001b[0m\n\u001b[0m\u001b[1;32m   2447\u001b[0m         \u001b[0mbufsize\u001b[0m \u001b[0;34m=\u001b[0m \u001b[0mself\u001b[0m\u001b[0;34m.\u001b[0m\u001b[0mcopybufsize\u001b[0m\u001b[0;34m\u001b[0m\u001b[0;34m\u001b[0m\u001b[0m\n\u001b[1;32m   2448\u001b[0m         \u001b[0;32mwith\u001b[0m \u001b[0mbltn_open\u001b[0m\u001b[0;34m(\u001b[0m\u001b[0mtargetpath\u001b[0m\u001b[0;34m,\u001b[0m \u001b[0;34m\"wb\"\u001b[0m\u001b[0;34m)\u001b[0m \u001b[0;32mas\u001b[0m \u001b[0mtarget\u001b[0m\u001b[0;34m:\u001b[0m\u001b[0;34m\u001b[0m\u001b[0;34m\u001b[0m\u001b[0m\n",
            "\u001b[0;32m/usr/lib/python3.10/gzip.py\u001b[0m in \u001b[0;36mseek\u001b[0;34m(self, offset, whence)\u001b[0m\n\u001b[1;32m    391\u001b[0m         \u001b[0;32melif\u001b[0m \u001b[0mself\u001b[0m\u001b[0;34m.\u001b[0m\u001b[0mmode\u001b[0m \u001b[0;34m==\u001b[0m \u001b[0mREAD\u001b[0m\u001b[0;34m:\u001b[0m\u001b[0;34m\u001b[0m\u001b[0;34m\u001b[0m\u001b[0m\n\u001b[1;32m    392\u001b[0m             \u001b[0mself\u001b[0m\u001b[0;34m.\u001b[0m\u001b[0m_check_not_closed\u001b[0m\u001b[0;34m(\u001b[0m\u001b[0;34m)\u001b[0m\u001b[0;34m\u001b[0m\u001b[0;34m\u001b[0m\u001b[0m\n\u001b[0;32m--> 393\u001b[0;31m             \u001b[0;32mreturn\u001b[0m \u001b[0mself\u001b[0m\u001b[0;34m.\u001b[0m\u001b[0m_buffer\u001b[0m\u001b[0;34m.\u001b[0m\u001b[0mseek\u001b[0m\u001b[0;34m(\u001b[0m\u001b[0moffset\u001b[0m\u001b[0;34m,\u001b[0m \u001b[0mwhence\u001b[0m\u001b[0;34m)\u001b[0m\u001b[0;34m\u001b[0m\u001b[0;34m\u001b[0m\u001b[0m\n\u001b[0m\u001b[1;32m    394\u001b[0m \u001b[0;34m\u001b[0m\u001b[0m\n\u001b[1;32m    395\u001b[0m         \u001b[0;32mreturn\u001b[0m \u001b[0mself\u001b[0m\u001b[0;34m.\u001b[0m\u001b[0moffset\u001b[0m\u001b[0;34m\u001b[0m\u001b[0;34m\u001b[0m\u001b[0m\n",
            "\u001b[0;32m/usr/lib/python3.10/_compression.py\u001b[0m in \u001b[0;36mseek\u001b[0;34m(self, offset, whence)\u001b[0m\n\u001b[1;32m    151\u001b[0m         \u001b[0;31m# Read and discard data until we reach the desired position.\u001b[0m\u001b[0;34m\u001b[0m\u001b[0;34m\u001b[0m\u001b[0m\n\u001b[1;32m    152\u001b[0m         \u001b[0;32mwhile\u001b[0m \u001b[0moffset\u001b[0m \u001b[0;34m>\u001b[0m \u001b[0;36m0\u001b[0m\u001b[0;34m:\u001b[0m\u001b[0;34m\u001b[0m\u001b[0;34m\u001b[0m\u001b[0m\n\u001b[0;32m--> 153\u001b[0;31m             \u001b[0mdata\u001b[0m \u001b[0;34m=\u001b[0m \u001b[0mself\u001b[0m\u001b[0;34m.\u001b[0m\u001b[0mread\u001b[0m\u001b[0;34m(\u001b[0m\u001b[0mmin\u001b[0m\u001b[0;34m(\u001b[0m\u001b[0mio\u001b[0m\u001b[0;34m.\u001b[0m\u001b[0mDEFAULT_BUFFER_SIZE\u001b[0m\u001b[0;34m,\u001b[0m \u001b[0moffset\u001b[0m\u001b[0;34m)\u001b[0m\u001b[0;34m)\u001b[0m\u001b[0;34m\u001b[0m\u001b[0;34m\u001b[0m\u001b[0m\n\u001b[0m\u001b[1;32m    154\u001b[0m             \u001b[0;32mif\u001b[0m \u001b[0;32mnot\u001b[0m \u001b[0mdata\u001b[0m\u001b[0;34m:\u001b[0m\u001b[0;34m\u001b[0m\u001b[0;34m\u001b[0m\u001b[0m\n\u001b[1;32m    155\u001b[0m                 \u001b[0;32mbreak\u001b[0m\u001b[0;34m\u001b[0m\u001b[0;34m\u001b[0m\u001b[0m\n",
            "\u001b[0;32m/usr/lib/python3.10/gzip.py\u001b[0m in \u001b[0;36mread\u001b[0;34m(self, size)\u001b[0m\n\u001b[1;32m    492\u001b[0m \u001b[0;34m\u001b[0m\u001b[0m\n\u001b[1;32m    493\u001b[0m             \u001b[0;31m# Read a chunk of data from the file\u001b[0m\u001b[0;34m\u001b[0m\u001b[0;34m\u001b[0m\u001b[0m\n\u001b[0;32m--> 494\u001b[0;31m             \u001b[0mbuf\u001b[0m \u001b[0;34m=\u001b[0m \u001b[0mself\u001b[0m\u001b[0;34m.\u001b[0m\u001b[0m_fp\u001b[0m\u001b[0;34m.\u001b[0m\u001b[0mread\u001b[0m\u001b[0;34m(\u001b[0m\u001b[0mio\u001b[0m\u001b[0;34m.\u001b[0m\u001b[0mDEFAULT_BUFFER_SIZE\u001b[0m\u001b[0;34m)\u001b[0m\u001b[0;34m\u001b[0m\u001b[0;34m\u001b[0m\u001b[0m\n\u001b[0m\u001b[1;32m    495\u001b[0m \u001b[0;34m\u001b[0m\u001b[0m\n\u001b[1;32m    496\u001b[0m             \u001b[0muncompress\u001b[0m \u001b[0;34m=\u001b[0m \u001b[0mself\u001b[0m\u001b[0;34m.\u001b[0m\u001b[0m_decompressor\u001b[0m\u001b[0;34m.\u001b[0m\u001b[0mdecompress\u001b[0m\u001b[0;34m(\u001b[0m\u001b[0mbuf\u001b[0m\u001b[0;34m,\u001b[0m \u001b[0msize\u001b[0m\u001b[0;34m)\u001b[0m\u001b[0;34m\u001b[0m\u001b[0;34m\u001b[0m\u001b[0m\n",
            "\u001b[0;32m/usr/lib/python3.10/gzip.py\u001b[0m in \u001b[0;36mread\u001b[0;34m(self, size)\u001b[0m\n\u001b[1;32m     95\u001b[0m             \u001b[0mself\u001b[0m\u001b[0;34m.\u001b[0m\u001b[0m_read\u001b[0m \u001b[0;34m=\u001b[0m \u001b[0;32mNone\u001b[0m\u001b[0;34m\u001b[0m\u001b[0;34m\u001b[0m\u001b[0m\n\u001b[1;32m     96\u001b[0m             \u001b[0;32mreturn\u001b[0m \u001b[0mself\u001b[0m\u001b[0;34m.\u001b[0m\u001b[0m_buffer\u001b[0m\u001b[0;34m[\u001b[0m\u001b[0mread\u001b[0m\u001b[0;34m:\u001b[0m\u001b[0;34m]\u001b[0m \u001b[0;34m+\u001b[0m\u001b[0;31m \u001b[0m\u001b[0;31m\\\u001b[0m\u001b[0;34m\u001b[0m\u001b[0;34m\u001b[0m\u001b[0m\n\u001b[0;32m---> 97\u001b[0;31m                    \u001b[0mself\u001b[0m\u001b[0;34m.\u001b[0m\u001b[0mfile\u001b[0m\u001b[0;34m.\u001b[0m\u001b[0mread\u001b[0m\u001b[0;34m(\u001b[0m\u001b[0msize\u001b[0m\u001b[0;34m-\u001b[0m\u001b[0mself\u001b[0m\u001b[0;34m.\u001b[0m\u001b[0m_length\u001b[0m\u001b[0;34m+\u001b[0m\u001b[0mread\u001b[0m\u001b[0;34m)\u001b[0m\u001b[0;34m\u001b[0m\u001b[0;34m\u001b[0m\u001b[0m\n\u001b[0m\u001b[1;32m     98\u001b[0m \u001b[0;34m\u001b[0m\u001b[0m\n\u001b[1;32m     99\u001b[0m     \u001b[0;32mdef\u001b[0m \u001b[0mprepend\u001b[0m\u001b[0;34m(\u001b[0m\u001b[0mself\u001b[0m\u001b[0;34m,\u001b[0m \u001b[0mprepend\u001b[0m\u001b[0;34m=\u001b[0m\u001b[0;34mb''\u001b[0m\u001b[0;34m)\u001b[0m\u001b[0;34m:\u001b[0m\u001b[0;34m\u001b[0m\u001b[0;34m\u001b[0m\u001b[0m\n",
            "\u001b[0;31mKeyboardInterrupt\u001b[0m: "
          ]
        }
      ]
    },
    {
      "cell_type": "code",
      "source": [
        "\n",
        "from PIL import Image\n",
        "import os,sys\n",
        "\n",
        "# rename all folders to match class names of the training dataset\n",
        "path = '/home/val'\n",
        "dirs = os.listdir(path)\n",
        "\n",
        "for folder in dirs:\n",
        "  # rename species folder\n",
        "  os.rename(f\"{path}/{folder}\", f\"{path}/{'_'.join(folder.split('_')[6::])}_images\")\n",
        "\n",
        "  # get path of each image in class folder\n",
        "  new_path = f\"{path}/{'_'.join(folder.split('_')[6::])}_images\"\n",
        "  image_dir = os.listdir(new_path)\n",
        "\n",
        "  for item in image_dir:\n",
        "    item_path = f\"{new_path}/{item}\"\n",
        "\n",
        "    if os.path.isfile(item_path):\n",
        "      im = Image.open(item_path)\n",
        "      f, e = os.path.splitext(item_path)\n",
        "      imResize = im.resize((180,180))     # resizing image so that it can be read by the model\n",
        "      imResize.save(item_path,'JPEG', quality=90)"
      ],
      "metadata": {
        "id": "czRBXdrRBTPg"
      },
      "execution_count": 20,
      "outputs": []
    },
    {
      "cell_type": "code",
      "source": [
        "import matplotlib.pyplot as plt\n",
        "import numpy as np\n",
        "import pathlib\n",
        "import tensorflow as tf\n",
        "\n",
        "from tensorflow import keras\n",
        "from tensorflow.keras import layers\n",
        "from tensorflow.keras.models import Sequential\n",
        "\n",
        "# Define paths and parameters\n",
        "data_dir = pathlib.Path('/home/DataSet').with_suffix('')  # Directory storing the training data\n",
        "batch_size = 32\n",
        "img_height = 180\n",
        "img_width = 180\n",
        "\n",
        "# Quick check on the dataset\n",
        "image_count = len(list(data_dir.glob('*/*.jpg')))\n",
        "print(f\"Found {image_count} images.\")\n",
        "\n",
        "# Creating the training dataset\n",
        "train_ds = tf.keras.utils.image_dataset_from_directory(\n",
        "    data_dir,\n",
        "    validation_split=None,\n",
        "    subset=None,\n",
        "    seed=123,\n",
        "    image_size=(img_height, img_width),\n",
        "    batch_size=batch_size\n",
        ")\n",
        "\n",
        "# Identifying class names\n",
        "class_names = train_ds.class_names\n",
        "print(class_names)\n",
        "\n",
        "# Print a batch shape\n",
        "for image_batch, labels_batch in train_ds:\n",
        "    print(image_batch.shape)\n",
        "    print(labels_batch.shape)\n",
        "    break\n",
        "\n",
        "# Creating the validation dataset\n",
        "val_ds = tf.keras.utils.image_dataset_from_directory(\n",
        "    '/home/val',\n",
        "    validation_split=None,\n",
        "    subset=None,\n",
        "    seed=123,\n",
        "    image_size=(img_height, img_width),\n",
        "    batch_size=batch_size\n",
        ")\n",
        "\n",
        "# Configuring dataset for performance\n",
        "AUTOTUNE = tf.data.AUTOTUNE\n",
        "train_ds = train_ds.cache().shuffle(1000).prefetch(buffer_size=AUTOTUNE)\n",
        "val_ds = val_ds.cache().prefetch(buffer_size=AUTOTUNE)\n",
        "\n",
        "# Number of classes\n",
        "num_classes = len(class_names)\n",
        "\n",
        "# Load the VGG16 base model with pre-trained weights, excluding the top layers\n",
        "vgg_base = tf.keras.applications.VGG16(\n",
        "    include_top=False,\n",
        "    weights='imagenet',\n",
        "    input_shape=(img_height, img_width, 3)\n",
        ")\n",
        "\n",
        "# Freeze the base model\n",
        "vgg_base.trainable = False\n",
        "\n",
        "# Create a new model on top of the VGG16 base\n",
        "model = Sequential([\n",
        "    vgg_base,\n",
        "    layers.Flatten(),\n",
        "    layers.Dense(512, activation='relu'),\n",
        "    layers.Dropout(0.5),\n",
        "    layers.Dense(num_classes, activation='softmax')\n",
        "])\n",
        "\n",
        "# Print model summary\n",
        "model.summary()\n",
        "\n",
        "# Compile the model\n",
        "model.compile(optimizer='adam',\n",
        "              loss='sparse_categorical_crossentropy',\n",
        "              metrics=['accuracy'])\n",
        "\n",
        "# Train the model\n",
        "history = model.fit(\n",
        "    train_ds,\n",
        "    validation_data=val_ds,\n",
        "    epochs=10\n",
        ")\n",
        "\n",
        "# Plot training & validation accuracy values\n",
        "plt.figure(figsize=(12, 4))\n",
        "\n",
        "plt.subplot(1, 2, 1)\n",
        "plt.plot(history.history['accuracy'])\n",
        "plt.plot(history.history['val_accuracy'])\n",
        "plt.title('Model accuracy')\n",
        "plt.ylabel('Accuracy')\n",
        "plt.xlabel('Epoch')\n",
        "plt.legend(['Train', 'Validation'], loc='upper left')\n",
        "\n",
        "# Plot training & validation loss values\n",
        "plt.subplot(1, 2, 2)\n",
        "plt.plot(history.history['loss'])\n",
        "plt.plot(history.history['val_loss'])\n",
        "plt.title('Model loss')\n",
        "plt.ylabel('Loss')\n",
        "plt.xlabel('Epoch')\n",
        "plt.legend(['Train', 'Validation'], loc='upper left')\n",
        "\n",
        "plt.show()\n"
      ],
      "metadata": {
        "colab": {
          "base_uri": "https://localhost:8080/",
          "height": 1000
        },
        "id": "Q_Pl9OXYDOHK",
        "outputId": "4edbeab1-f77b-4c8a-e69f-8ec72678c935"
      },
      "execution_count": 21,
      "outputs": [
        {
          "output_type": "stream",
          "name": "stdout",
          "text": [
            "Found 500 images.\n",
            "Found 500 files belonging to 5 classes.\n",
            "['Falco_peregrinus_images', 'Oryx_gazella_images', 'Panthera_leo_images', 'Rattus_rattus_images', 'Zalophus_wollebaeki_images']\n",
            "(32, 180, 180, 3)\n",
            "(32,)\n",
            "Found 9 files belonging to 5 classes.\n",
            "Downloading data from https://storage.googleapis.com/tensorflow/keras-applications/vgg16/vgg16_weights_tf_dim_ordering_tf_kernels_notop.h5\n",
            "58889256/58889256 [==============================] - 0s 0us/step\n",
            "Model: \"sequential\"\n",
            "_________________________________________________________________\n",
            " Layer (type)                Output Shape              Param #   \n",
            "=================================================================\n",
            " vgg16 (Functional)          (None, 5, 5, 512)         14714688  \n",
            "                                                                 \n",
            " flatten (Flatten)           (None, 12800)             0         \n",
            "                                                                 \n",
            " dense (Dense)               (None, 512)               6554112   \n",
            "                                                                 \n",
            " dropout (Dropout)           (None, 512)               0         \n",
            "                                                                 \n",
            " dense_1 (Dense)             (None, 5)                 2565      \n",
            "                                                                 \n",
            "=================================================================\n",
            "Total params: 21271365 (81.14 MB)\n",
            "Trainable params: 6556677 (25.01 MB)\n",
            "Non-trainable params: 14714688 (56.13 MB)\n",
            "_________________________________________________________________\n",
            "Epoch 1/10\n",
            "16/16 [==============================] - 16s 451ms/step - loss: 14.3129 - accuracy: 0.5240 - val_loss: 15.8012 - val_accuracy: 0.7778\n",
            "Epoch 2/10\n",
            "16/16 [==============================] - 2s 94ms/step - loss: 3.6514 - accuracy: 0.8340 - val_loss: 18.1962 - val_accuracy: 0.6667\n",
            "Epoch 3/10\n",
            "16/16 [==============================] - 1s 91ms/step - loss: 1.1919 - accuracy: 0.9060 - val_loss: 10.4056 - val_accuracy: 0.6667\n",
            "Epoch 4/10\n",
            "16/16 [==============================] - 1s 92ms/step - loss: 0.7019 - accuracy: 0.9500 - val_loss: 11.7137 - val_accuracy: 0.7778\n",
            "Epoch 5/10\n",
            "16/16 [==============================] - 1s 92ms/step - loss: 0.5183 - accuracy: 0.9620 - val_loss: 15.7337 - val_accuracy: 0.6667\n",
            "Epoch 6/10\n",
            "16/16 [==============================] - 1s 92ms/step - loss: 0.2963 - accuracy: 0.9760 - val_loss: 12.1269 - val_accuracy: 0.6667\n",
            "Epoch 7/10\n",
            "16/16 [==============================] - 1s 92ms/step - loss: 0.4636 - accuracy: 0.9700 - val_loss: 11.9706 - val_accuracy: 0.6667\n",
            "Epoch 8/10\n",
            "16/16 [==============================] - 1s 93ms/step - loss: 0.1080 - accuracy: 0.9860 - val_loss: 11.5358 - val_accuracy: 0.6667\n",
            "Epoch 9/10\n",
            "16/16 [==============================] - 1s 93ms/step - loss: 0.1128 - accuracy: 0.9900 - val_loss: 14.2164 - val_accuracy: 0.6667\n",
            "Epoch 10/10\n",
            "16/16 [==============================] - 1s 93ms/step - loss: 0.0908 - accuracy: 0.9820 - val_loss: 11.9345 - val_accuracy: 0.6667\n"
          ]
        },
        {
          "output_type": "display_data",
          "data": {
            "text/plain": [
              "<Figure size 1200x400 with 2 Axes>"
            ],
            "image/png": "[encoded data removed]"
          },
          "metadata": {}
        }
      ]
    },
    {
      "cell_type": "code",
      "source": [
        "\n",
        "from PIL import Image\n",
        "import os,sys\n",
        ""
      ],
      "metadata": {
        "id": "fSN1e1OqFL4k"
      },
      "execution_count": 22,
      "outputs": []
    },
    {
      "cell_type": "code",
      "source": [
        "# image file paths in tar.gz file\n",
        "imgToExtract = []\n",
        "\n",
        "try:\n",
        "  t = tarfile.open(imagesArchive, 'r')\n",
        "\n",
        "except IOError as e:\n",
        "  print(e)\n",
        "\n",
        "else:\n",
        "\n",
        "  for id,value in annotatedFiles.items():\n",
        "    # create image file path\n",
        "    imgFilePath = f\"val/{value['imagedirectory']}/{id}.jpg\"\n",
        "    imgToExtract.append(imgFilePath)\n",
        "\n",
        "  t.extractall('/home/val2.0', members=imgToExtract)      # download the new images to another folder"
      ],
      "metadata": {
        "colab": {
          "base_uri": "https://localhost:8080/",
          "height": 321
        },
        "id": "AVsx7lweFM5L",
        "outputId": "6dd93dda-fe82-4a74-f699-c67650781709"
      },
      "execution_count": 23,
      "outputs": [
        {
          "output_type": "error",
          "ename": "KeyboardInterrupt",
          "evalue": "",
          "traceback": [
            "\u001b[0;31m---------------------------------------------------------------------------\u001b[0m",
            "\u001b[0;31mKeyboardInterrupt\u001b[0m                         Traceback (most recent call last)",
            "\u001b[0;32m<ipython-input-23-59a2653e6540>\u001b[0m in \u001b[0;36m<cell line: 4>\u001b[0;34m()\u001b[0m\n\u001b[1;32m     15\u001b[0m     \u001b[0mimgToExtract\u001b[0m\u001b[0;34m.\u001b[0m\u001b[0mappend\u001b[0m\u001b[0;34m(\u001b[0m\u001b[0mimgFilePath\u001b[0m\u001b[0;34m)\u001b[0m\u001b[0;34m\u001b[0m\u001b[0;34m\u001b[0m\u001b[0m\n\u001b[1;32m     16\u001b[0m \u001b[0;34m\u001b[0m\u001b[0m\n\u001b[0;32m---> 17\u001b[0;31m   \u001b[0mt\u001b[0m\u001b[0;34m.\u001b[0m\u001b[0mextractall\u001b[0m\u001b[0;34m(\u001b[0m\u001b[0;34m'/home/val2.0'\u001b[0m\u001b[0;34m,\u001b[0m \u001b[0mmembers\u001b[0m\u001b[0;34m=\u001b[0m\u001b[0mimgToExtract\u001b[0m\u001b[0;34m)\u001b[0m      \u001b[0;31m# download the new images to another folder\u001b[0m\u001b[0;34m\u001b[0m\u001b[0;34m\u001b[0m\u001b[0m\n\u001b[0m",
            "\u001b[0;32m/usr/lib/python3.10/tarfile.py\u001b[0m in \u001b[0;36mextractall\u001b[0;34m(self, path, members, numeric_owner, filter)\u001b[0m\n\u001b[1;32m   2247\u001b[0m \u001b[0;34m\u001b[0m\u001b[0m\n\u001b[1;32m   2248\u001b[0m         \u001b[0;32mfor\u001b[0m \u001b[0mmember\u001b[0m \u001b[0;32min\u001b[0m \u001b[0mmembers\u001b[0m\u001b[0;34m:\u001b[0m\u001b[0;34m\u001b[0m\u001b[0;34m\u001b[0m\u001b[0m\n\u001b[0;32m-> 2249\u001b[0;31m             \u001b[0mtarinfo\u001b[0m \u001b[0;34m=\u001b[0m \u001b[0mself\u001b[0m\u001b[0;34m.\u001b[0m\u001b[0m_get_extract_tarinfo\u001b[0m\u001b[0;34m(\u001b[0m\u001b[0mmember\u001b[0m\u001b[0;34m,\u001b[0m \u001b[0mfilter_function\u001b[0m\u001b[0;34m,\u001b[0m \u001b[0mpath\u001b[0m\u001b[0;34m)\u001b[0m\u001b[0;34m\u001b[0m\u001b[0;34m\u001b[0m\u001b[0m\n\u001b[0m\u001b[1;32m   2250\u001b[0m             \u001b[0;32mif\u001b[0m \u001b[0mtarinfo\u001b[0m \u001b[0;32mis\u001b[0m \u001b[0;32mNone\u001b[0m\u001b[0;34m:\u001b[0m\u001b[0;34m\u001b[0m\u001b[0;34m\u001b[0m\u001b[0m\n\u001b[1;32m   2251\u001b[0m                 \u001b[0;32mcontinue\u001b[0m\u001b[0;34m\u001b[0m\u001b[0;34m\u001b[0m\u001b[0m\n",
            "\u001b[0;32m/usr/lib/python3.10/tarfile.py\u001b[0m in \u001b[0;36m_get_extract_tarinfo\u001b[0;34m(self, member, filter_function, path)\u001b[0m\n\u001b[1;32m   2293\u001b[0m         \u001b[0;34m\"\"\"Get filtered TarInfo (or None) from member, which might be a str\"\"\"\u001b[0m\u001b[0;34m\u001b[0m\u001b[0;34m\u001b[0m\u001b[0m\n\u001b[1;32m   2294\u001b[0m         \u001b[0;32mif\u001b[0m \u001b[0misinstance\u001b[0m\u001b[0;34m(\u001b[0m\u001b[0mmember\u001b[0m\u001b[0;34m,\u001b[0m \u001b[0mstr\u001b[0m\u001b[0;34m)\u001b[0m\u001b[0;34m:\u001b[0m\u001b[0;34m\u001b[0m\u001b[0;34m\u001b[0m\u001b[0m\n\u001b[0;32m-> 2295\u001b[0;31m             \u001b[0mtarinfo\u001b[0m \u001b[0;34m=\u001b[0m \u001b[0mself\u001b[0m\u001b[0;34m.\u001b[0m\u001b[0mgetmember\u001b[0m\u001b[0;34m(\u001b[0m\u001b[0mmember\u001b[0m\u001b[0;34m)\u001b[0m\u001b[0;34m\u001b[0m\u001b[0;34m\u001b[0m\u001b[0m\n\u001b[0m\u001b[1;32m   2296\u001b[0m         \u001b[0;32melse\u001b[0m\u001b[0;34m:\u001b[0m\u001b[0;34m\u001b[0m\u001b[0;34m\u001b[0m\u001b[0m\n\u001b[1;32m   2297\u001b[0m             \u001b[0mtarinfo\u001b[0m \u001b[0;34m=\u001b[0m \u001b[0mmember\u001b[0m\u001b[0;34m\u001b[0m\u001b[0;34m\u001b[0m\u001b[0m\n",
            "\u001b[0;32m/usr/lib/python3.10/tarfile.py\u001b[0m in \u001b[0;36mgetmember\u001b[0;34m(self, name)\u001b[0m\n\u001b[1;32m   1974\u001b[0m            \u001b[0mmost\u001b[0m \u001b[0mup\u001b[0m\u001b[0;34m-\u001b[0m\u001b[0mto\u001b[0m\u001b[0;34m-\u001b[0m\u001b[0mdate\u001b[0m \u001b[0mversion\u001b[0m\u001b[0;34m.\u001b[0m\u001b[0;34m\u001b[0m\u001b[0;34m\u001b[0m\u001b[0m\n\u001b[1;32m   1975\u001b[0m         \"\"\"\n\u001b[0;32m-> 1976\u001b[0;31m         \u001b[0mtarinfo\u001b[0m \u001b[0;34m=\u001b[0m \u001b[0mself\u001b[0m\u001b[0;34m.\u001b[0m\u001b[0m_getmember\u001b[0m\u001b[0;34m(\u001b[0m\u001b[0mname\u001b[0m\u001b[0;34m.\u001b[0m\u001b[0mrstrip\u001b[0m\u001b[0;34m(\u001b[0m\u001b[0;34m'/'\u001b[0m\u001b[0;34m)\u001b[0m\u001b[0;34m)\u001b[0m\u001b[0;34m\u001b[0m\u001b[0;34m\u001b[0m\u001b[0m\n\u001b[0m\u001b[1;32m   1977\u001b[0m         \u001b[0;32mif\u001b[0m \u001b[0mtarinfo\u001b[0m \u001b[0;32mis\u001b[0m \u001b[0;32mNone\u001b[0m\u001b[0;34m:\u001b[0m\u001b[0;34m\u001b[0m\u001b[0;34m\u001b[0m\u001b[0m\n\u001b[1;32m   1978\u001b[0m             \u001b[0;32mraise\u001b[0m \u001b[0mKeyError\u001b[0m\u001b[0;34m(\u001b[0m\u001b[0;34m\"filename %r not found\"\u001b[0m \u001b[0;34m%\u001b[0m \u001b[0mname\u001b[0m\u001b[0;34m)\u001b[0m\u001b[0;34m\u001b[0m\u001b[0;34m\u001b[0m\u001b[0m\n",
            "\u001b[0;32m/usr/lib/python3.10/tarfile.py\u001b[0m in \u001b[0;36m_getmember\u001b[0;34m(self, name, tarinfo, normalize)\u001b[0m\n\u001b[1;32m   2640\u001b[0m         \"\"\"\n\u001b[1;32m   2641\u001b[0m         \u001b[0;31m# Ensure that all members have been loaded.\u001b[0m\u001b[0;34m\u001b[0m\u001b[0;34m\u001b[0m\u001b[0m\n\u001b[0;32m-> 2642\u001b[0;31m         \u001b[0mmembers\u001b[0m \u001b[0;34m=\u001b[0m \u001b[0mself\u001b[0m\u001b[0;34m.\u001b[0m\u001b[0mgetmembers\u001b[0m\u001b[0;34m(\u001b[0m\u001b[0;34m)\u001b[0m\u001b[0;34m\u001b[0m\u001b[0;34m\u001b[0m\u001b[0m\n\u001b[0m\u001b[1;32m   2643\u001b[0m \u001b[0;34m\u001b[0m\u001b[0m\n\u001b[1;32m   2644\u001b[0m         \u001b[0;31m# Limit the member search list up to tarinfo.\u001b[0m\u001b[0;34m\u001b[0m\u001b[0;34m\u001b[0m\u001b[0m\n",
            "\u001b[0;32m/usr/lib/python3.10/tarfile.py\u001b[0m in \u001b[0;36mgetmembers\u001b[0;34m(self)\u001b[0m\n\u001b[1;32m   1985\u001b[0m         \u001b[0mself\u001b[0m\u001b[0;34m.\u001b[0m\u001b[0m_check\u001b[0m\u001b[0;34m(\u001b[0m\u001b[0;34m)\u001b[0m\u001b[0;34m\u001b[0m\u001b[0;34m\u001b[0m\u001b[0m\n\u001b[1;32m   1986\u001b[0m         \u001b[0;32mif\u001b[0m \u001b[0;32mnot\u001b[0m \u001b[0mself\u001b[0m\u001b[0;34m.\u001b[0m\u001b[0m_loaded\u001b[0m\u001b[0;34m:\u001b[0m    \u001b[0;31m# if we want to obtain a list of\u001b[0m\u001b[0;34m\u001b[0m\u001b[0;34m\u001b[0m\u001b[0m\n\u001b[0;32m-> 1987\u001b[0;31m             \u001b[0mself\u001b[0m\u001b[0;34m.\u001b[0m\u001b[0m_load\u001b[0m\u001b[0;34m(\u001b[0m\u001b[0;34m)\u001b[0m        \u001b[0;31m# all members, we first have to\u001b[0m\u001b[0;34m\u001b[0m\u001b[0;34m\u001b[0m\u001b[0m\n\u001b[0m\u001b[1;32m   1988\u001b[0m                                 \u001b[0;31m# scan the whole archive.\u001b[0m\u001b[0;34m\u001b[0m\u001b[0;34m\u001b[0m\u001b[0m\n\u001b[1;32m   1989\u001b[0m         \u001b[0;32mreturn\u001b[0m \u001b[0mself\u001b[0m\u001b[0;34m.\u001b[0m\u001b[0mmembers\u001b[0m\u001b[0;34m\u001b[0m\u001b[0;34m\u001b[0m\u001b[0m\n",
            "\u001b[0;32m/usr/lib/python3.10/tarfile.py\u001b[0m in \u001b[0;36m_load\u001b[0;34m(self)\u001b[0m\n\u001b[1;32m   2680\u001b[0m         \"\"\"\n\u001b[1;32m   2681\u001b[0m         \u001b[0;32mwhile\u001b[0m \u001b[0;32mTrue\u001b[0m\u001b[0;34m:\u001b[0m\u001b[0;34m\u001b[0m\u001b[0;34m\u001b[0m\u001b[0m\n\u001b[0;32m-> 2682\u001b[0;31m             \u001b[0mtarinfo\u001b[0m \u001b[0;34m=\u001b[0m \u001b[0mself\u001b[0m\u001b[0;34m.\u001b[0m\u001b[0mnext\u001b[0m\u001b[0;34m(\u001b[0m\u001b[0;34m)\u001b[0m\u001b[0;34m\u001b[0m\u001b[0;34m\u001b[0m\u001b[0m\n\u001b[0m\u001b[1;32m   2683\u001b[0m             \u001b[0;32mif\u001b[0m \u001b[0mtarinfo\u001b[0m \u001b[0;32mis\u001b[0m \u001b[0;32mNone\u001b[0m\u001b[0;34m:\u001b[0m\u001b[0;34m\u001b[0m\u001b[0;34m\u001b[0m\u001b[0m\n\u001b[1;32m   2684\u001b[0m                 \u001b[0;32mbreak\u001b[0m\u001b[0;34m\u001b[0m\u001b[0;34m\u001b[0m\u001b[0m\n",
            "\u001b[0;32m/usr/lib/python3.10/tarfile.py\u001b[0m in \u001b[0;36mnext\u001b[0;34m(self)\u001b[0m\n\u001b[1;32m   2585\u001b[0m         \u001b[0;31m# Advance the file pointer.\u001b[0m\u001b[0;34m\u001b[0m\u001b[0;34m\u001b[0m\u001b[0m\n\u001b[1;32m   2586\u001b[0m         \u001b[0;32mif\u001b[0m \u001b[0mself\u001b[0m\u001b[0;34m.\u001b[0m\u001b[0moffset\u001b[0m \u001b[0;34m!=\u001b[0m \u001b[0mself\u001b[0m\u001b[0;34m.\u001b[0m\u001b[0mfileobj\u001b[0m\u001b[0;34m.\u001b[0m\u001b[0mtell\u001b[0m\u001b[0;34m(\u001b[0m\u001b[0;34m)\u001b[0m\u001b[0;34m:\u001b[0m\u001b[0;34m\u001b[0m\u001b[0;34m\u001b[0m\u001b[0m\n\u001b[0;32m-> 2587\u001b[0;31m             \u001b[0mself\u001b[0m\u001b[0;34m.\u001b[0m\u001b[0mfileobj\u001b[0m\u001b[0;34m.\u001b[0m\u001b[0mseek\u001b[0m\u001b[0;34m(\u001b[0m\u001b[0mself\u001b[0m\u001b[0;34m.\u001b[0m\u001b[0moffset\u001b[0m \u001b[0;34m-\u001b[0m \u001b[0;36m1\u001b[0m\u001b[0;34m)\u001b[0m\u001b[0;34m\u001b[0m\u001b[0;34m\u001b[0m\u001b[0m\n\u001b[0m\u001b[1;32m   2588\u001b[0m             \u001b[0;32mif\u001b[0m \u001b[0;32mnot\u001b[0m \u001b[0mself\u001b[0m\u001b[0;34m.\u001b[0m\u001b[0mfileobj\u001b[0m\u001b[0;34m.\u001b[0m\u001b[0mread\u001b[0m\u001b[0;34m(\u001b[0m\u001b[0;36m1\u001b[0m\u001b[0;34m)\u001b[0m\u001b[0;34m:\u001b[0m\u001b[0;34m\u001b[0m\u001b[0;34m\u001b[0m\u001b[0m\n\u001b[1;32m   2589\u001b[0m                 \u001b[0;32mraise\u001b[0m \u001b[0mReadError\u001b[0m\u001b[0;34m(\u001b[0m\u001b[0;34m\"unexpected end of data\"\u001b[0m\u001b[0;34m)\u001b[0m\u001b[0;34m\u001b[0m\u001b[0;34m\u001b[0m\u001b[0m\n",
            "\u001b[0;32m/usr/lib/python3.10/gzip.py\u001b[0m in \u001b[0;36mseek\u001b[0;34m(self, offset, whence)\u001b[0m\n\u001b[1;32m    391\u001b[0m         \u001b[0;32melif\u001b[0m \u001b[0mself\u001b[0m\u001b[0;34m.\u001b[0m\u001b[0mmode\u001b[0m \u001b[0;34m==\u001b[0m \u001b[0mREAD\u001b[0m\u001b[0;34m:\u001b[0m\u001b[0;34m\u001b[0m\u001b[0;34m\u001b[0m\u001b[0m\n\u001b[1;32m    392\u001b[0m             \u001b[0mself\u001b[0m\u001b[0;34m.\u001b[0m\u001b[0m_check_not_closed\u001b[0m\u001b[0;34m(\u001b[0m\u001b[0;34m)\u001b[0m\u001b[0;34m\u001b[0m\u001b[0;34m\u001b[0m\u001b[0m\n\u001b[0;32m--> 393\u001b[0;31m             \u001b[0;32mreturn\u001b[0m \u001b[0mself\u001b[0m\u001b[0;34m.\u001b[0m\u001b[0m_buffer\u001b[0m\u001b[0;34m.\u001b[0m\u001b[0mseek\u001b[0m\u001b[0;34m(\u001b[0m\u001b[0moffset\u001b[0m\u001b[0;34m,\u001b[0m \u001b[0mwhence\u001b[0m\u001b[0;34m)\u001b[0m\u001b[0;34m\u001b[0m\u001b[0;34m\u001b[0m\u001b[0m\n\u001b[0m\u001b[1;32m    394\u001b[0m \u001b[0;34m\u001b[0m\u001b[0m\n\u001b[1;32m    395\u001b[0m         \u001b[0;32mreturn\u001b[0m \u001b[0mself\u001b[0m\u001b[0;34m.\u001b[0m\u001b[0moffset\u001b[0m\u001b[0;34m\u001b[0m\u001b[0;34m\u001b[0m\u001b[0m\n",
            "\u001b[0;32m/usr/lib/python3.10/_compression.py\u001b[0m in \u001b[0;36mseek\u001b[0;34m(self, offset, whence)\u001b[0m\n\u001b[1;32m    151\u001b[0m         \u001b[0;31m# Read and discard data until we reach the desired position.\u001b[0m\u001b[0;34m\u001b[0m\u001b[0;34m\u001b[0m\u001b[0m\n\u001b[1;32m    152\u001b[0m         \u001b[0;32mwhile\u001b[0m \u001b[0moffset\u001b[0m \u001b[0;34m>\u001b[0m \u001b[0;36m0\u001b[0m\u001b[0;34m:\u001b[0m\u001b[0;34m\u001b[0m\u001b[0;34m\u001b[0m\u001b[0m\n\u001b[0;32m--> 153\u001b[0;31m             \u001b[0mdata\u001b[0m \u001b[0;34m=\u001b[0m \u001b[0mself\u001b[0m\u001b[0;34m.\u001b[0m\u001b[0mread\u001b[0m\u001b[0;34m(\u001b[0m\u001b[0mmin\u001b[0m\u001b[0;34m(\u001b[0m\u001b[0mio\u001b[0m\u001b[0;34m.\u001b[0m\u001b[0mDEFAULT_BUFFER_SIZE\u001b[0m\u001b[0;34m,\u001b[0m \u001b[0moffset\u001b[0m\u001b[0;34m)\u001b[0m\u001b[0;34m)\u001b[0m\u001b[0;34m\u001b[0m\u001b[0;34m\u001b[0m\u001b[0m\n\u001b[0m\u001b[1;32m    154\u001b[0m             \u001b[0;32mif\u001b[0m \u001b[0;32mnot\u001b[0m \u001b[0mdata\u001b[0m\u001b[0;34m:\u001b[0m\u001b[0;34m\u001b[0m\u001b[0;34m\u001b[0m\u001b[0m\n\u001b[1;32m    155\u001b[0m                 \u001b[0;32mbreak\u001b[0m\u001b[0;34m\u001b[0m\u001b[0;34m\u001b[0m\u001b[0m\n",
            "\u001b[0;32m/usr/lib/python3.10/gzip.py\u001b[0m in \u001b[0;36mread\u001b[0;34m(self, size)\u001b[0m\n\u001b[1;32m    494\u001b[0m             \u001b[0mbuf\u001b[0m \u001b[0;34m=\u001b[0m \u001b[0mself\u001b[0m\u001b[0;34m.\u001b[0m\u001b[0m_fp\u001b[0m\u001b[0;34m.\u001b[0m\u001b[0mread\u001b[0m\u001b[0;34m(\u001b[0m\u001b[0mio\u001b[0m\u001b[0;34m.\u001b[0m\u001b[0mDEFAULT_BUFFER_SIZE\u001b[0m\u001b[0;34m)\u001b[0m\u001b[0;34m\u001b[0m\u001b[0;34m\u001b[0m\u001b[0m\n\u001b[1;32m    495\u001b[0m \u001b[0;34m\u001b[0m\u001b[0m\n\u001b[0;32m--> 496\u001b[0;31m             \u001b[0muncompress\u001b[0m \u001b[0;34m=\u001b[0m \u001b[0mself\u001b[0m\u001b[0;34m.\u001b[0m\u001b[0m_decompressor\u001b[0m\u001b[0;34m.\u001b[0m\u001b[0mdecompress\u001b[0m\u001b[0;34m(\u001b[0m\u001b[0mbuf\u001b[0m\u001b[0;34m,\u001b[0m \u001b[0msize\u001b[0m\u001b[0;34m)\u001b[0m\u001b[0;34m\u001b[0m\u001b[0;34m\u001b[0m\u001b[0m\n\u001b[0m\u001b[1;32m    497\u001b[0m             \u001b[0;32mif\u001b[0m \u001b[0mself\u001b[0m\u001b[0;34m.\u001b[0m\u001b[0m_decompressor\u001b[0m\u001b[0;34m.\u001b[0m\u001b[0munconsumed_tail\u001b[0m \u001b[0;34m!=\u001b[0m \u001b[0;34mb\"\"\u001b[0m\u001b[0;34m:\u001b[0m\u001b[0;34m\u001b[0m\u001b[0;34m\u001b[0m\u001b[0m\n\u001b[1;32m    498\u001b[0m                 \u001b[0mself\u001b[0m\u001b[0;34m.\u001b[0m\u001b[0m_fp\u001b[0m\u001b[0;34m.\u001b[0m\u001b[0mprepend\u001b[0m\u001b[0;34m(\u001b[0m\u001b[0mself\u001b[0m\u001b[0;34m.\u001b[0m\u001b[0m_decompressor\u001b[0m\u001b[0;34m.\u001b[0m\u001b[0munconsumed_tail\u001b[0m\u001b[0;34m)\u001b[0m\u001b[0;34m\u001b[0m\u001b[0;34m\u001b[0m\u001b[0m\n",
            "\u001b[0;31mKeyboardInterrupt\u001b[0m: "
          ]
        }
      ]
    },
    {
      "cell_type": "code",
      "source": [
        "# rename all folders\n",
        "path = '/home/val2.0/val'\n",
        "dirs = os.listdir(path)\n",
        "\n",
        "for folder in dirs:\n",
        "  # rename folders so class folders match the names of the training dataset\n",
        "  os.rename(f\"{path}/{folder}\", f\"{path}/{'_'.join(folder.split('_')[6::])}_images\")\n",
        "\n",
        "  # get new path to manipulate images\n",
        "  new_path = f\"{path}/{'_'.join(folder.split('_')[6::])}_images\"\n",
        "  image_dir = os.listdir(new_path)\n",
        "\n",
        "  for item in image_dir:\n",
        "    # full image path\n",
        "    item_path = f\"{new_path}/{item}\"\n",
        "\n",
        "    if os.path.isfile(item_path):\n",
        "      print(f\"Currently manipulating {item}\")\n",
        "      im = Image.open(item_path)\n",
        "\n",
        "      # cropping the images to square aspect ratio\n",
        "      width, height = im.size\n",
        "      min_dimension = min(width, height)\n",
        "      # left(x), upper(y), right(x), lower(y)\n",
        "      img_mid_area = ((width - min_dimension) // 2,\n",
        "                      (height - min_dimension) // 2,\n",
        "                      ((width - min_dimension) // 2) + min_dimension,\n",
        "                       ((height - min_dimension) // 2) + min_dimension)\n",
        "      img_cropped = im.crop(img_mid_area)\n",
        "\n",
        "      # resize square cropped images to 180x180px\n",
        "      imResize = img_cropped.resize((180,180))\n",
        "\n",
        "      imResize.save(item_path,'JPEG', quality=90)"
      ],
      "metadata": {
        "colab": {
          "base_uri": "https://localhost:8080/",
          "height": 211
        },
        "id": "zbve45QIFQwd",
        "outputId": "f9852e98-4bc4-4cb2-99cb-b9351af420bf"
      },
      "execution_count": 24,
      "outputs": [
        {
          "output_type": "error",
          "ename": "FileNotFoundError",
          "evalue": "[Errno 2] No such file or directory: '/home/val2.0/val'",
          "traceback": [
            "\u001b[0;31m---------------------------------------------------------------------------\u001b[0m",
            "\u001b[0;31mFileNotFoundError\u001b[0m                         Traceback (most recent call last)",
            "\u001b[0;32m<ipython-input-24-e138492f347a>\u001b[0m in \u001b[0;36m<cell line: 3>\u001b[0;34m()\u001b[0m\n\u001b[1;32m      1\u001b[0m \u001b[0;31m# rename all folders\u001b[0m\u001b[0;34m\u001b[0m\u001b[0;34m\u001b[0m\u001b[0m\n\u001b[1;32m      2\u001b[0m \u001b[0mpath\u001b[0m \u001b[0;34m=\u001b[0m \u001b[0;34m'/home/val2.0/val'\u001b[0m\u001b[0;34m\u001b[0m\u001b[0;34m\u001b[0m\u001b[0m\n\u001b[0;32m----> 3\u001b[0;31m \u001b[0mdirs\u001b[0m \u001b[0;34m=\u001b[0m \u001b[0mos\u001b[0m\u001b[0;34m.\u001b[0m\u001b[0mlistdir\u001b[0m\u001b[0;34m(\u001b[0m\u001b[0mpath\u001b[0m\u001b[0;34m)\u001b[0m\u001b[0;34m\u001b[0m\u001b[0;34m\u001b[0m\u001b[0m\n\u001b[0m\u001b[1;32m      4\u001b[0m \u001b[0;34m\u001b[0m\u001b[0m\n\u001b[1;32m      5\u001b[0m \u001b[0;32mfor\u001b[0m \u001b[0mfolder\u001b[0m \u001b[0;32min\u001b[0m \u001b[0mdirs\u001b[0m\u001b[0;34m:\u001b[0m\u001b[0;34m\u001b[0m\u001b[0;34m\u001b[0m\u001b[0m\n",
            "\u001b[0;31mFileNotFoundError\u001b[0m: [Errno 2] No such file or directory: '/home/val2.0/val'"
          ]
        }
      ]
    },
    {
      "cell_type": "code",
      "source": [
        "vgg_base = tf.keras.applications.VGG16(\n",
        "    include_top=False,\n",
        "    weights='imagenet',\n",
        "    input_shape=(img_height, img_width, 3)\n",
        ")\n",
        "\n",
        "plt.figure(figsize=(10, 10))\n",
        "for images, _ in train_ds.take(1):\n",
        "    for i in range(9):\n",
        "        augmented_images = data_augmentation(images)\n",
        "        ax = plt.subplot(3, 3, i + 1)\n",
        "        plt.imshow(augmented_images[0].numpy().astype(\"uint8\"))\n",
        "        plt.axis(\"off\")\n",
        "plt.show()"
      ],
      "metadata": {
        "colab": {
          "base_uri": "https://localhost:8080/",
          "height": 228
        },
        "id": "T1i5-KfjFUWM",
        "outputId": "429645d9-7b1f-4941-8c80-cceceb573c68"
      },
      "execution_count": 25,
      "outputs": [
        {
          "output_type": "error",
          "ename": "NameError",
          "evalue": "name 'data_augmentation' is not defined",
          "traceback": [
            "\u001b[0;31m---------------------------------------------------------------------------\u001b[0m",
            "\u001b[0;31mNameError\u001b[0m                                 Traceback (most recent call last)",
            "\u001b[0;32m<ipython-input-25-97ca524f2d5a>\u001b[0m in \u001b[0;36m<cell line: 8>\u001b[0;34m()\u001b[0m\n\u001b[1;32m      8\u001b[0m \u001b[0;32mfor\u001b[0m \u001b[0mimages\u001b[0m\u001b[0;34m,\u001b[0m \u001b[0m_\u001b[0m \u001b[0;32min\u001b[0m \u001b[0mtrain_ds\u001b[0m\u001b[0;34m.\u001b[0m\u001b[0mtake\u001b[0m\u001b[0;34m(\u001b[0m\u001b[0;36m1\u001b[0m\u001b[0;34m)\u001b[0m\u001b[0;34m:\u001b[0m\u001b[0;34m\u001b[0m\u001b[0;34m\u001b[0m\u001b[0m\n\u001b[1;32m      9\u001b[0m     \u001b[0;32mfor\u001b[0m \u001b[0mi\u001b[0m \u001b[0;32min\u001b[0m \u001b[0mrange\u001b[0m\u001b[0;34m(\u001b[0m\u001b[0;36m9\u001b[0m\u001b[0;34m)\u001b[0m\u001b[0;34m:\u001b[0m\u001b[0;34m\u001b[0m\u001b[0;34m\u001b[0m\u001b[0m\n\u001b[0;32m---> 10\u001b[0;31m         \u001b[0maugmented_images\u001b[0m \u001b[0;34m=\u001b[0m \u001b[0mdata_augmentation\u001b[0m\u001b[0;34m(\u001b[0m\u001b[0mimages\u001b[0m\u001b[0;34m)\u001b[0m\u001b[0;34m\u001b[0m\u001b[0;34m\u001b[0m\u001b[0m\n\u001b[0m\u001b[1;32m     11\u001b[0m         \u001b[0max\u001b[0m \u001b[0;34m=\u001b[0m \u001b[0mplt\u001b[0m\u001b[0;34m.\u001b[0m\u001b[0msubplot\u001b[0m\u001b[0;34m(\u001b[0m\u001b[0;36m3\u001b[0m\u001b[0;34m,\u001b[0m \u001b[0;36m3\u001b[0m\u001b[0;34m,\u001b[0m \u001b[0mi\u001b[0m \u001b[0;34m+\u001b[0m \u001b[0;36m1\u001b[0m\u001b[0;34m)\u001b[0m\u001b[0;34m\u001b[0m\u001b[0;34m\u001b[0m\u001b[0m\n\u001b[1;32m     12\u001b[0m         \u001b[0mplt\u001b[0m\u001b[0;34m.\u001b[0m\u001b[0mimshow\u001b[0m\u001b[0;34m(\u001b[0m\u001b[0maugmented_images\u001b[0m\u001b[0;34m[\u001b[0m\u001b[0;36m0\u001b[0m\u001b[0;34m]\u001b[0m\u001b[0;34m.\u001b[0m\u001b[0mnumpy\u001b[0m\u001b[0;34m(\u001b[0m\u001b[0;34m)\u001b[0m\u001b[0;34m.\u001b[0m\u001b[0mastype\u001b[0m\u001b[0;34m(\u001b[0m\u001b[0;34m\"uint8\"\u001b[0m\u001b[0;34m)\u001b[0m\u001b[0;34m)\u001b[0m\u001b[0;34m\u001b[0m\u001b[0;34m\u001b[0m\u001b[0m\n",
            "\u001b[0;31mNameError\u001b[0m: name 'data_augmentation' is not defined"
          ]
        },
        {
          "output_type": "display_data",
          "data": {
            "text/plain": [
              "<Figure size 1000x1000 with 0 Axes>"
            ]
          },
          "metadata": {}
        }
      ]
    }
  ]
}